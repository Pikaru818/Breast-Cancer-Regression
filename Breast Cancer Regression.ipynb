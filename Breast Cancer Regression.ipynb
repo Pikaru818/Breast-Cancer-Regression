{
 "cells": [
  {
   "cell_type": "markdown",
   "id": "23c84973",
   "metadata": {},
   "source": [
    "Step 1/2:\n",
    "\n",
    "The usual load all the libraries and the datasets + cleaning NaN values"
   ]
  },
  {
   "cell_type": "code",
   "execution_count": 89,
   "id": "89b6f26c",
   "metadata": {},
   "outputs": [
    {
     "data": {
      "text/html": [
       "<div>\n",
       "<style scoped>\n",
       "    .dataframe tbody tr th:only-of-type {\n",
       "        vertical-align: middle;\n",
       "    }\n",
       "\n",
       "    .dataframe tbody tr th {\n",
       "        vertical-align: top;\n",
       "    }\n",
       "\n",
       "    .dataframe thead th {\n",
       "        text-align: right;\n",
       "    }\n",
       "</style>\n",
       "<table border=\"1\" class=\"dataframe\">\n",
       "  <thead>\n",
       "    <tr style=\"text-align: right;\">\n",
       "      <th></th>\n",
       "      <th>age</th>\n",
       "      <th>sex</th>\n",
       "      <th>bmi</th>\n",
       "      <th>children</th>\n",
       "      <th>smoker</th>\n",
       "      <th>region</th>\n",
       "      <th>charges</th>\n",
       "    </tr>\n",
       "  </thead>\n",
       "  <tbody>\n",
       "    <tr>\n",
       "      <th>0</th>\n",
       "      <td>19</td>\n",
       "      <td>female</td>\n",
       "      <td>27.900</td>\n",
       "      <td>0</td>\n",
       "      <td>yes</td>\n",
       "      <td>southwest</td>\n",
       "      <td>16884.92400</td>\n",
       "    </tr>\n",
       "    <tr>\n",
       "      <th>1</th>\n",
       "      <td>18</td>\n",
       "      <td>male</td>\n",
       "      <td>33.770</td>\n",
       "      <td>1</td>\n",
       "      <td>no</td>\n",
       "      <td>southeast</td>\n",
       "      <td>1725.55230</td>\n",
       "    </tr>\n",
       "    <tr>\n",
       "      <th>2</th>\n",
       "      <td>28</td>\n",
       "      <td>male</td>\n",
       "      <td>33.000</td>\n",
       "      <td>3</td>\n",
       "      <td>no</td>\n",
       "      <td>southeast</td>\n",
       "      <td>4449.46200</td>\n",
       "    </tr>\n",
       "    <tr>\n",
       "      <th>3</th>\n",
       "      <td>33</td>\n",
       "      <td>male</td>\n",
       "      <td>22.705</td>\n",
       "      <td>0</td>\n",
       "      <td>no</td>\n",
       "      <td>northwest</td>\n",
       "      <td>21984.47061</td>\n",
       "    </tr>\n",
       "    <tr>\n",
       "      <th>4</th>\n",
       "      <td>32</td>\n",
       "      <td>male</td>\n",
       "      <td>28.880</td>\n",
       "      <td>0</td>\n",
       "      <td>no</td>\n",
       "      <td>northwest</td>\n",
       "      <td>3866.85520</td>\n",
       "    </tr>\n",
       "    <tr>\n",
       "      <th>...</th>\n",
       "      <td>...</td>\n",
       "      <td>...</td>\n",
       "      <td>...</td>\n",
       "      <td>...</td>\n",
       "      <td>...</td>\n",
       "      <td>...</td>\n",
       "      <td>...</td>\n",
       "    </tr>\n",
       "    <tr>\n",
       "      <th>1333</th>\n",
       "      <td>50</td>\n",
       "      <td>male</td>\n",
       "      <td>30.970</td>\n",
       "      <td>3</td>\n",
       "      <td>no</td>\n",
       "      <td>northwest</td>\n",
       "      <td>10600.54830</td>\n",
       "    </tr>\n",
       "    <tr>\n",
       "      <th>1334</th>\n",
       "      <td>18</td>\n",
       "      <td>female</td>\n",
       "      <td>31.920</td>\n",
       "      <td>0</td>\n",
       "      <td>no</td>\n",
       "      <td>northeast</td>\n",
       "      <td>2205.98080</td>\n",
       "    </tr>\n",
       "    <tr>\n",
       "      <th>1335</th>\n",
       "      <td>18</td>\n",
       "      <td>female</td>\n",
       "      <td>36.850</td>\n",
       "      <td>0</td>\n",
       "      <td>no</td>\n",
       "      <td>southeast</td>\n",
       "      <td>1629.83350</td>\n",
       "    </tr>\n",
       "    <tr>\n",
       "      <th>1336</th>\n",
       "      <td>21</td>\n",
       "      <td>female</td>\n",
       "      <td>25.800</td>\n",
       "      <td>0</td>\n",
       "      <td>no</td>\n",
       "      <td>southwest</td>\n",
       "      <td>2007.94500</td>\n",
       "    </tr>\n",
       "    <tr>\n",
       "      <th>1337</th>\n",
       "      <td>61</td>\n",
       "      <td>female</td>\n",
       "      <td>29.070</td>\n",
       "      <td>0</td>\n",
       "      <td>yes</td>\n",
       "      <td>northwest</td>\n",
       "      <td>29141.36030</td>\n",
       "    </tr>\n",
       "  </tbody>\n",
       "</table>\n",
       "<p>1338 rows × 7 columns</p>\n",
       "</div>"
      ],
      "text/plain": [
       "      age     sex     bmi  children smoker     region      charges\n",
       "0      19  female  27.900         0    yes  southwest  16884.92400\n",
       "1      18    male  33.770         1     no  southeast   1725.55230\n",
       "2      28    male  33.000         3     no  southeast   4449.46200\n",
       "3      33    male  22.705         0     no  northwest  21984.47061\n",
       "4      32    male  28.880         0     no  northwest   3866.85520\n",
       "...   ...     ...     ...       ...    ...        ...          ...\n",
       "1333   50    male  30.970         3     no  northwest  10600.54830\n",
       "1334   18  female  31.920         0     no  northeast   2205.98080\n",
       "1335   18  female  36.850         0     no  southeast   1629.83350\n",
       "1336   21  female  25.800         0     no  southwest   2007.94500\n",
       "1337   61  female  29.070         0    yes  northwest  29141.36030\n",
       "\n",
       "[1338 rows x 7 columns]"
      ]
     },
     "execution_count": 89,
     "metadata": {},
     "output_type": "execute_result"
    }
   ],
   "source": [
    "import pandas as pd\n",
    "import numpy as np\n",
    "import matplotlib.pyplot as plt\n",
    "import seaborn as sns\n",
    "from sklearn.preprocessing import LabelEncoder,StandardScaler\n",
    "from sklearn.metrics import confusion_matrix,classification_report,r2_score,mean_absolute_error,mean_squared_error\n",
    "from sklearn.model_selection import train_test_split\n",
    "from sklearn.tree import DecisionTreeRegressor\n",
    "from sklearn.ensemble import RandomForestRegressor\n",
    "from sklearn.svm import SVR\n",
    "from sklearn import datasets\n",
    "from sklearn.model_selection import GridSearchCV\n",
    "\n",
    "enc = LabelEncoder()\n",
    "sca=StandardScaler()\n",
    "\n",
    "df=pd.read_csv('insurance.csv')\n",
    "df"
   ]
  },
  {
   "cell_type": "code",
   "execution_count": 90,
   "id": "32d2bb02",
   "metadata": {},
   "outputs": [
    {
     "data": {
      "text/html": [
       "<div>\n",
       "<style scoped>\n",
       "    .dataframe tbody tr th:only-of-type {\n",
       "        vertical-align: middle;\n",
       "    }\n",
       "\n",
       "    .dataframe tbody tr th {\n",
       "        vertical-align: top;\n",
       "    }\n",
       "\n",
       "    .dataframe thead th {\n",
       "        text-align: right;\n",
       "    }\n",
       "</style>\n",
       "<table border=\"1\" class=\"dataframe\">\n",
       "  <thead>\n",
       "    <tr style=\"text-align: right;\">\n",
       "      <th></th>\n",
       "      <th>age</th>\n",
       "      <th>sex</th>\n",
       "      <th>bmi</th>\n",
       "      <th>children</th>\n",
       "      <th>smoker</th>\n",
       "      <th>region</th>\n",
       "      <th>charges</th>\n",
       "    </tr>\n",
       "  </thead>\n",
       "  <tbody>\n",
       "    <tr>\n",
       "      <th>0</th>\n",
       "      <td>19</td>\n",
       "      <td>female</td>\n",
       "      <td>27.900</td>\n",
       "      <td>0</td>\n",
       "      <td>yes</td>\n",
       "      <td>southwest</td>\n",
       "      <td>16884.92400</td>\n",
       "    </tr>\n",
       "    <tr>\n",
       "      <th>1</th>\n",
       "      <td>18</td>\n",
       "      <td>male</td>\n",
       "      <td>33.770</td>\n",
       "      <td>1</td>\n",
       "      <td>no</td>\n",
       "      <td>southeast</td>\n",
       "      <td>1725.55230</td>\n",
       "    </tr>\n",
       "    <tr>\n",
       "      <th>2</th>\n",
       "      <td>28</td>\n",
       "      <td>male</td>\n",
       "      <td>33.000</td>\n",
       "      <td>3</td>\n",
       "      <td>no</td>\n",
       "      <td>southeast</td>\n",
       "      <td>4449.46200</td>\n",
       "    </tr>\n",
       "    <tr>\n",
       "      <th>3</th>\n",
       "      <td>33</td>\n",
       "      <td>male</td>\n",
       "      <td>22.705</td>\n",
       "      <td>0</td>\n",
       "      <td>no</td>\n",
       "      <td>northwest</td>\n",
       "      <td>21984.47061</td>\n",
       "    </tr>\n",
       "    <tr>\n",
       "      <th>4</th>\n",
       "      <td>32</td>\n",
       "      <td>male</td>\n",
       "      <td>28.880</td>\n",
       "      <td>0</td>\n",
       "      <td>no</td>\n",
       "      <td>northwest</td>\n",
       "      <td>3866.85520</td>\n",
       "    </tr>\n",
       "    <tr>\n",
       "      <th>...</th>\n",
       "      <td>...</td>\n",
       "      <td>...</td>\n",
       "      <td>...</td>\n",
       "      <td>...</td>\n",
       "      <td>...</td>\n",
       "      <td>...</td>\n",
       "      <td>...</td>\n",
       "    </tr>\n",
       "    <tr>\n",
       "      <th>1333</th>\n",
       "      <td>50</td>\n",
       "      <td>male</td>\n",
       "      <td>30.970</td>\n",
       "      <td>3</td>\n",
       "      <td>no</td>\n",
       "      <td>northwest</td>\n",
       "      <td>10600.54830</td>\n",
       "    </tr>\n",
       "    <tr>\n",
       "      <th>1334</th>\n",
       "      <td>18</td>\n",
       "      <td>female</td>\n",
       "      <td>31.920</td>\n",
       "      <td>0</td>\n",
       "      <td>no</td>\n",
       "      <td>northeast</td>\n",
       "      <td>2205.98080</td>\n",
       "    </tr>\n",
       "    <tr>\n",
       "      <th>1335</th>\n",
       "      <td>18</td>\n",
       "      <td>female</td>\n",
       "      <td>36.850</td>\n",
       "      <td>0</td>\n",
       "      <td>no</td>\n",
       "      <td>southeast</td>\n",
       "      <td>1629.83350</td>\n",
       "    </tr>\n",
       "    <tr>\n",
       "      <th>1336</th>\n",
       "      <td>21</td>\n",
       "      <td>female</td>\n",
       "      <td>25.800</td>\n",
       "      <td>0</td>\n",
       "      <td>no</td>\n",
       "      <td>southwest</td>\n",
       "      <td>2007.94500</td>\n",
       "    </tr>\n",
       "    <tr>\n",
       "      <th>1337</th>\n",
       "      <td>61</td>\n",
       "      <td>female</td>\n",
       "      <td>29.070</td>\n",
       "      <td>0</td>\n",
       "      <td>yes</td>\n",
       "      <td>northwest</td>\n",
       "      <td>29141.36030</td>\n",
       "    </tr>\n",
       "  </tbody>\n",
       "</table>\n",
       "<p>1338 rows × 7 columns</p>\n",
       "</div>"
      ],
      "text/plain": [
       "      age     sex     bmi  children smoker     region      charges\n",
       "0      19  female  27.900         0    yes  southwest  16884.92400\n",
       "1      18    male  33.770         1     no  southeast   1725.55230\n",
       "2      28    male  33.000         3     no  southeast   4449.46200\n",
       "3      33    male  22.705         0     no  northwest  21984.47061\n",
       "4      32    male  28.880         0     no  northwest   3866.85520\n",
       "...   ...     ...     ...       ...    ...        ...          ...\n",
       "1333   50    male  30.970         3     no  northwest  10600.54830\n",
       "1334   18  female  31.920         0     no  northeast   2205.98080\n",
       "1335   18  female  36.850         0     no  southeast   1629.83350\n",
       "1336   21  female  25.800         0     no  southwest   2007.94500\n",
       "1337   61  female  29.070         0    yes  northwest  29141.36030\n",
       "\n",
       "[1338 rows x 7 columns]"
      ]
     },
     "execution_count": 90,
     "metadata": {},
     "output_type": "execute_result"
    }
   ],
   "source": [
    "df=df.replace(r'^\\s*$', np.nan, regex=True)\n",
    "df.dropna(inplace=True,axis=0)\n",
    "df"
   ]
  },
  {
   "cell_type": "code",
   "execution_count": 91,
   "id": "7bed879f",
   "metadata": {
    "scrolled": true
   },
   "outputs": [
    {
     "data": {
      "text/html": [
       "<div>\n",
       "<style scoped>\n",
       "    .dataframe tbody tr th:only-of-type {\n",
       "        vertical-align: middle;\n",
       "    }\n",
       "\n",
       "    .dataframe tbody tr th {\n",
       "        vertical-align: top;\n",
       "    }\n",
       "\n",
       "    .dataframe thead th {\n",
       "        text-align: right;\n",
       "    }\n",
       "</style>\n",
       "<table border=\"1\" class=\"dataframe\">\n",
       "  <thead>\n",
       "    <tr style=\"text-align: right;\">\n",
       "      <th></th>\n",
       "      <th>age</th>\n",
       "      <th>sex</th>\n",
       "      <th>bmi</th>\n",
       "      <th>children</th>\n",
       "      <th>smoker</th>\n",
       "      <th>region</th>\n",
       "    </tr>\n",
       "  </thead>\n",
       "  <tbody>\n",
       "    <tr>\n",
       "      <th>0</th>\n",
       "      <td>19</td>\n",
       "      <td>female</td>\n",
       "      <td>27.900</td>\n",
       "      <td>0</td>\n",
       "      <td>yes</td>\n",
       "      <td>southwest</td>\n",
       "    </tr>\n",
       "    <tr>\n",
       "      <th>1</th>\n",
       "      <td>18</td>\n",
       "      <td>male</td>\n",
       "      <td>33.770</td>\n",
       "      <td>1</td>\n",
       "      <td>no</td>\n",
       "      <td>southeast</td>\n",
       "    </tr>\n",
       "    <tr>\n",
       "      <th>2</th>\n",
       "      <td>28</td>\n",
       "      <td>male</td>\n",
       "      <td>33.000</td>\n",
       "      <td>3</td>\n",
       "      <td>no</td>\n",
       "      <td>southeast</td>\n",
       "    </tr>\n",
       "    <tr>\n",
       "      <th>3</th>\n",
       "      <td>33</td>\n",
       "      <td>male</td>\n",
       "      <td>22.705</td>\n",
       "      <td>0</td>\n",
       "      <td>no</td>\n",
       "      <td>northwest</td>\n",
       "    </tr>\n",
       "    <tr>\n",
       "      <th>4</th>\n",
       "      <td>32</td>\n",
       "      <td>male</td>\n",
       "      <td>28.880</td>\n",
       "      <td>0</td>\n",
       "      <td>no</td>\n",
       "      <td>northwest</td>\n",
       "    </tr>\n",
       "    <tr>\n",
       "      <th>...</th>\n",
       "      <td>...</td>\n",
       "      <td>...</td>\n",
       "      <td>...</td>\n",
       "      <td>...</td>\n",
       "      <td>...</td>\n",
       "      <td>...</td>\n",
       "    </tr>\n",
       "    <tr>\n",
       "      <th>1333</th>\n",
       "      <td>50</td>\n",
       "      <td>male</td>\n",
       "      <td>30.970</td>\n",
       "      <td>3</td>\n",
       "      <td>no</td>\n",
       "      <td>northwest</td>\n",
       "    </tr>\n",
       "    <tr>\n",
       "      <th>1334</th>\n",
       "      <td>18</td>\n",
       "      <td>female</td>\n",
       "      <td>31.920</td>\n",
       "      <td>0</td>\n",
       "      <td>no</td>\n",
       "      <td>northeast</td>\n",
       "    </tr>\n",
       "    <tr>\n",
       "      <th>1335</th>\n",
       "      <td>18</td>\n",
       "      <td>female</td>\n",
       "      <td>36.850</td>\n",
       "      <td>0</td>\n",
       "      <td>no</td>\n",
       "      <td>southeast</td>\n",
       "    </tr>\n",
       "    <tr>\n",
       "      <th>1336</th>\n",
       "      <td>21</td>\n",
       "      <td>female</td>\n",
       "      <td>25.800</td>\n",
       "      <td>0</td>\n",
       "      <td>no</td>\n",
       "      <td>southwest</td>\n",
       "    </tr>\n",
       "    <tr>\n",
       "      <th>1337</th>\n",
       "      <td>61</td>\n",
       "      <td>female</td>\n",
       "      <td>29.070</td>\n",
       "      <td>0</td>\n",
       "      <td>yes</td>\n",
       "      <td>northwest</td>\n",
       "    </tr>\n",
       "  </tbody>\n",
       "</table>\n",
       "<p>1338 rows × 6 columns</p>\n",
       "</div>"
      ],
      "text/plain": [
       "      age     sex     bmi  children smoker     region\n",
       "0      19  female  27.900         0    yes  southwest\n",
       "1      18    male  33.770         1     no  southeast\n",
       "2      28    male  33.000         3     no  southeast\n",
       "3      33    male  22.705         0     no  northwest\n",
       "4      32    male  28.880         0     no  northwest\n",
       "...   ...     ...     ...       ...    ...        ...\n",
       "1333   50    male  30.970         3     no  northwest\n",
       "1334   18  female  31.920         0     no  northeast\n",
       "1335   18  female  36.850         0     no  southeast\n",
       "1336   21  female  25.800         0     no  southwest\n",
       "1337   61  female  29.070         0    yes  northwest\n",
       "\n",
       "[1338 rows x 6 columns]"
      ]
     },
     "execution_count": 91,
     "metadata": {},
     "output_type": "execute_result"
    }
   ],
   "source": [
    "Xprep = df.copy()\n",
    "Xprep = Xprep.drop(['charges'], axis = 1)\n",
    "y= df[['charges']]\n",
    "Xprep"
   ]
  },
  {
   "cell_type": "markdown",
   "id": "5225d61d",
   "metadata": {},
   "source": [
    "Step 3: Encoding and Scaling the individual pieces"
   ]
  },
  {
   "cell_type": "code",
   "execution_count": 92,
   "id": "8d0e126c",
   "metadata": {},
   "outputs": [
    {
     "data": {
      "text/html": [
       "<div>\n",
       "<style scoped>\n",
       "    .dataframe tbody tr th:only-of-type {\n",
       "        vertical-align: middle;\n",
       "    }\n",
       "\n",
       "    .dataframe tbody tr th {\n",
       "        vertical-align: top;\n",
       "    }\n",
       "\n",
       "    .dataframe thead th {\n",
       "        text-align: right;\n",
       "    }\n",
       "</style>\n",
       "<table border=\"1\" class=\"dataframe\">\n",
       "  <thead>\n",
       "    <tr style=\"text-align: right;\">\n",
       "      <th></th>\n",
       "      <th>age</th>\n",
       "      <th>sex</th>\n",
       "      <th>bmi</th>\n",
       "      <th>children</th>\n",
       "      <th>smoker</th>\n",
       "      <th>region</th>\n",
       "    </tr>\n",
       "  </thead>\n",
       "  <tbody>\n",
       "    <tr>\n",
       "      <th>0</th>\n",
       "      <td>19</td>\n",
       "      <td>0</td>\n",
       "      <td>27.900</td>\n",
       "      <td>0</td>\n",
       "      <td>1</td>\n",
       "      <td>3</td>\n",
       "    </tr>\n",
       "    <tr>\n",
       "      <th>1</th>\n",
       "      <td>18</td>\n",
       "      <td>1</td>\n",
       "      <td>33.770</td>\n",
       "      <td>1</td>\n",
       "      <td>0</td>\n",
       "      <td>2</td>\n",
       "    </tr>\n",
       "    <tr>\n",
       "      <th>2</th>\n",
       "      <td>28</td>\n",
       "      <td>1</td>\n",
       "      <td>33.000</td>\n",
       "      <td>3</td>\n",
       "      <td>0</td>\n",
       "      <td>2</td>\n",
       "    </tr>\n",
       "    <tr>\n",
       "      <th>3</th>\n",
       "      <td>33</td>\n",
       "      <td>1</td>\n",
       "      <td>22.705</td>\n",
       "      <td>0</td>\n",
       "      <td>0</td>\n",
       "      <td>1</td>\n",
       "    </tr>\n",
       "    <tr>\n",
       "      <th>4</th>\n",
       "      <td>32</td>\n",
       "      <td>1</td>\n",
       "      <td>28.880</td>\n",
       "      <td>0</td>\n",
       "      <td>0</td>\n",
       "      <td>1</td>\n",
       "    </tr>\n",
       "    <tr>\n",
       "      <th>...</th>\n",
       "      <td>...</td>\n",
       "      <td>...</td>\n",
       "      <td>...</td>\n",
       "      <td>...</td>\n",
       "      <td>...</td>\n",
       "      <td>...</td>\n",
       "    </tr>\n",
       "    <tr>\n",
       "      <th>1333</th>\n",
       "      <td>50</td>\n",
       "      <td>1</td>\n",
       "      <td>30.970</td>\n",
       "      <td>3</td>\n",
       "      <td>0</td>\n",
       "      <td>1</td>\n",
       "    </tr>\n",
       "    <tr>\n",
       "      <th>1334</th>\n",
       "      <td>18</td>\n",
       "      <td>0</td>\n",
       "      <td>31.920</td>\n",
       "      <td>0</td>\n",
       "      <td>0</td>\n",
       "      <td>0</td>\n",
       "    </tr>\n",
       "    <tr>\n",
       "      <th>1335</th>\n",
       "      <td>18</td>\n",
       "      <td>0</td>\n",
       "      <td>36.850</td>\n",
       "      <td>0</td>\n",
       "      <td>0</td>\n",
       "      <td>2</td>\n",
       "    </tr>\n",
       "    <tr>\n",
       "      <th>1336</th>\n",
       "      <td>21</td>\n",
       "      <td>0</td>\n",
       "      <td>25.800</td>\n",
       "      <td>0</td>\n",
       "      <td>0</td>\n",
       "      <td>3</td>\n",
       "    </tr>\n",
       "    <tr>\n",
       "      <th>1337</th>\n",
       "      <td>61</td>\n",
       "      <td>0</td>\n",
       "      <td>29.070</td>\n",
       "      <td>0</td>\n",
       "      <td>1</td>\n",
       "      <td>1</td>\n",
       "    </tr>\n",
       "  </tbody>\n",
       "</table>\n",
       "<p>1338 rows × 6 columns</p>\n",
       "</div>"
      ],
      "text/plain": [
       "      age  sex     bmi  children  smoker  region\n",
       "0      19    0  27.900         0       1       3\n",
       "1      18    1  33.770         1       0       2\n",
       "2      28    1  33.000         3       0       2\n",
       "3      33    1  22.705         0       0       1\n",
       "4      32    1  28.880         0       0       1\n",
       "...   ...  ...     ...       ...     ...     ...\n",
       "1333   50    1  30.970         3       0       1\n",
       "1334   18    0  31.920         0       0       0\n",
       "1335   18    0  36.850         0       0       2\n",
       "1336   21    0  25.800         0       0       3\n",
       "1337   61    0  29.070         0       1       1\n",
       "\n",
       "[1338 rows x 6 columns]"
      ]
     },
     "execution_count": 92,
     "metadata": {},
     "output_type": "execute_result"
    }
   ],
   "source": [
    "Xprep['sex']= enc.fit_transform(Xprep.sex.values)\n",
    "Xprep['smoker']= enc.fit_transform(Xprep.smoker.values)\n",
    "Xprep['region']= enc.fit_transform(Xprep.region.values)\n",
    "Xprep"
   ]
  },
  {
   "cell_type": "code",
   "execution_count": 93,
   "id": "f82e14b1",
   "metadata": {
    "scrolled": true
   },
   "outputs": [
    {
     "data": {
      "text/html": [
       "<div>\n",
       "<style scoped>\n",
       "    .dataframe tbody tr th:only-of-type {\n",
       "        vertical-align: middle;\n",
       "    }\n",
       "\n",
       "    .dataframe tbody tr th {\n",
       "        vertical-align: top;\n",
       "    }\n",
       "\n",
       "    .dataframe thead th {\n",
       "        text-align: right;\n",
       "    }\n",
       "</style>\n",
       "<table border=\"1\" class=\"dataframe\">\n",
       "  <thead>\n",
       "    <tr style=\"text-align: right;\">\n",
       "      <th></th>\n",
       "      <th>age</th>\n",
       "      <th>sex</th>\n",
       "      <th>bmi</th>\n",
       "      <th>children</th>\n",
       "      <th>smoker</th>\n",
       "      <th>region</th>\n",
       "    </tr>\n",
       "  </thead>\n",
       "  <tbody>\n",
       "    <tr>\n",
       "      <th>0</th>\n",
       "      <td>-1.438764</td>\n",
       "      <td>0</td>\n",
       "      <td>-0.453320</td>\n",
       "      <td>0</td>\n",
       "      <td>1</td>\n",
       "      <td>3</td>\n",
       "    </tr>\n",
       "    <tr>\n",
       "      <th>1</th>\n",
       "      <td>-1.509965</td>\n",
       "      <td>1</td>\n",
       "      <td>0.509621</td>\n",
       "      <td>1</td>\n",
       "      <td>0</td>\n",
       "      <td>2</td>\n",
       "    </tr>\n",
       "    <tr>\n",
       "      <th>2</th>\n",
       "      <td>-0.797954</td>\n",
       "      <td>1</td>\n",
       "      <td>0.383307</td>\n",
       "      <td>3</td>\n",
       "      <td>0</td>\n",
       "      <td>2</td>\n",
       "    </tr>\n",
       "    <tr>\n",
       "      <th>3</th>\n",
       "      <td>-0.441948</td>\n",
       "      <td>1</td>\n",
       "      <td>-1.305531</td>\n",
       "      <td>0</td>\n",
       "      <td>0</td>\n",
       "      <td>1</td>\n",
       "    </tr>\n",
       "    <tr>\n",
       "      <th>4</th>\n",
       "      <td>-0.513149</td>\n",
       "      <td>1</td>\n",
       "      <td>-0.292556</td>\n",
       "      <td>0</td>\n",
       "      <td>0</td>\n",
       "      <td>1</td>\n",
       "    </tr>\n",
       "    <tr>\n",
       "      <th>...</th>\n",
       "      <td>...</td>\n",
       "      <td>...</td>\n",
       "      <td>...</td>\n",
       "      <td>...</td>\n",
       "      <td>...</td>\n",
       "      <td>...</td>\n",
       "    </tr>\n",
       "    <tr>\n",
       "      <th>1333</th>\n",
       "      <td>0.768473</td>\n",
       "      <td>1</td>\n",
       "      <td>0.050297</td>\n",
       "      <td>3</td>\n",
       "      <td>0</td>\n",
       "      <td>1</td>\n",
       "    </tr>\n",
       "    <tr>\n",
       "      <th>1334</th>\n",
       "      <td>-1.509965</td>\n",
       "      <td>0</td>\n",
       "      <td>0.206139</td>\n",
       "      <td>0</td>\n",
       "      <td>0</td>\n",
       "      <td>0</td>\n",
       "    </tr>\n",
       "    <tr>\n",
       "      <th>1335</th>\n",
       "      <td>-1.509965</td>\n",
       "      <td>0</td>\n",
       "      <td>1.014878</td>\n",
       "      <td>0</td>\n",
       "      <td>0</td>\n",
       "      <td>2</td>\n",
       "    </tr>\n",
       "    <tr>\n",
       "      <th>1336</th>\n",
       "      <td>-1.296362</td>\n",
       "      <td>0</td>\n",
       "      <td>-0.797813</td>\n",
       "      <td>0</td>\n",
       "      <td>0</td>\n",
       "      <td>3</td>\n",
       "    </tr>\n",
       "    <tr>\n",
       "      <th>1337</th>\n",
       "      <td>1.551686</td>\n",
       "      <td>0</td>\n",
       "      <td>-0.261388</td>\n",
       "      <td>0</td>\n",
       "      <td>1</td>\n",
       "      <td>1</td>\n",
       "    </tr>\n",
       "  </tbody>\n",
       "</table>\n",
       "<p>1338 rows × 6 columns</p>\n",
       "</div>"
      ],
      "text/plain": [
       "           age  sex       bmi  children  smoker  region\n",
       "0    -1.438764    0 -0.453320         0       1       3\n",
       "1    -1.509965    1  0.509621         1       0       2\n",
       "2    -0.797954    1  0.383307         3       0       2\n",
       "3    -0.441948    1 -1.305531         0       0       1\n",
       "4    -0.513149    1 -0.292556         0       0       1\n",
       "...        ...  ...       ...       ...     ...     ...\n",
       "1333  0.768473    1  0.050297         3       0       1\n",
       "1334 -1.509965    0  0.206139         0       0       0\n",
       "1335 -1.509965    0  1.014878         0       0       2\n",
       "1336 -1.296362    0 -0.797813         0       0       3\n",
       "1337  1.551686    0 -0.261388         0       1       1\n",
       "\n",
       "[1338 rows x 6 columns]"
      ]
     },
     "execution_count": 93,
     "metadata": {},
     "output_type": "execute_result"
    }
   ],
   "source": [
    "Xprep['bmi']= sca.fit_transform(np.array(Xprep['bmi']).reshape(-1,1))\n",
    "Xprep['age']= sca.fit_transform(np.array(Xprep['age']).reshape(-1,1))\n",
    "Xprep"
   ]
  },
  {
   "cell_type": "code",
   "execution_count": 94,
   "id": "2cb20645",
   "metadata": {},
   "outputs": [
    {
     "data": {
      "text/plain": [
       "array([[ 0.2985838 ],\n",
       "       [-0.95368917],\n",
       "       [-0.72867467],\n",
       "       ...,\n",
       "       [-0.96159623],\n",
       "       [-0.93036151],\n",
       "       [ 1.31105347]])"
      ]
     },
     "execution_count": 94,
     "metadata": {},
     "output_type": "execute_result"
    }
   ],
   "source": [
    "y= sca.fit_transform(y)\n",
    "y"
   ]
  },
  {
   "cell_type": "code",
   "execution_count": 95,
   "id": "8213febc",
   "metadata": {},
   "outputs": [
    {
     "data": {
      "text/html": [
       "<div>\n",
       "<style scoped>\n",
       "    .dataframe tbody tr th:only-of-type {\n",
       "        vertical-align: middle;\n",
       "    }\n",
       "\n",
       "    .dataframe tbody tr th {\n",
       "        vertical-align: top;\n",
       "    }\n",
       "\n",
       "    .dataframe thead th {\n",
       "        text-align: right;\n",
       "    }\n",
       "</style>\n",
       "<table border=\"1\" class=\"dataframe\">\n",
       "  <thead>\n",
       "    <tr style=\"text-align: right;\">\n",
       "      <th></th>\n",
       "      <th>age</th>\n",
       "      <th>sex</th>\n",
       "      <th>bmi</th>\n",
       "      <th>children</th>\n",
       "      <th>smoker</th>\n",
       "      <th>region</th>\n",
       "      <th>charges</th>\n",
       "    </tr>\n",
       "  </thead>\n",
       "  <tbody>\n",
       "    <tr>\n",
       "      <th>0</th>\n",
       "      <td>-1.438764</td>\n",
       "      <td>0</td>\n",
       "      <td>-0.453320</td>\n",
       "      <td>0</td>\n",
       "      <td>1</td>\n",
       "      <td>3</td>\n",
       "      <td>0.298584</td>\n",
       "    </tr>\n",
       "    <tr>\n",
       "      <th>1</th>\n",
       "      <td>-1.509965</td>\n",
       "      <td>1</td>\n",
       "      <td>0.509621</td>\n",
       "      <td>1</td>\n",
       "      <td>0</td>\n",
       "      <td>2</td>\n",
       "      <td>-0.953689</td>\n",
       "    </tr>\n",
       "    <tr>\n",
       "      <th>2</th>\n",
       "      <td>-0.797954</td>\n",
       "      <td>1</td>\n",
       "      <td>0.383307</td>\n",
       "      <td>3</td>\n",
       "      <td>0</td>\n",
       "      <td>2</td>\n",
       "      <td>-0.728675</td>\n",
       "    </tr>\n",
       "    <tr>\n",
       "      <th>3</th>\n",
       "      <td>-0.441948</td>\n",
       "      <td>1</td>\n",
       "      <td>-1.305531</td>\n",
       "      <td>0</td>\n",
       "      <td>0</td>\n",
       "      <td>1</td>\n",
       "      <td>0.719843</td>\n",
       "    </tr>\n",
       "    <tr>\n",
       "      <th>4</th>\n",
       "      <td>-0.513149</td>\n",
       "      <td>1</td>\n",
       "      <td>-0.292556</td>\n",
       "      <td>0</td>\n",
       "      <td>0</td>\n",
       "      <td>1</td>\n",
       "      <td>-0.776802</td>\n",
       "    </tr>\n",
       "    <tr>\n",
       "      <th>...</th>\n",
       "      <td>...</td>\n",
       "      <td>...</td>\n",
       "      <td>...</td>\n",
       "      <td>...</td>\n",
       "      <td>...</td>\n",
       "      <td>...</td>\n",
       "      <td>...</td>\n",
       "    </tr>\n",
       "    <tr>\n",
       "      <th>1333</th>\n",
       "      <td>0.768473</td>\n",
       "      <td>1</td>\n",
       "      <td>0.050297</td>\n",
       "      <td>3</td>\n",
       "      <td>0</td>\n",
       "      <td>1</td>\n",
       "      <td>-0.220551</td>\n",
       "    </tr>\n",
       "    <tr>\n",
       "      <th>1334</th>\n",
       "      <td>-1.509965</td>\n",
       "      <td>0</td>\n",
       "      <td>0.206139</td>\n",
       "      <td>0</td>\n",
       "      <td>0</td>\n",
       "      <td>0</td>\n",
       "      <td>-0.914002</td>\n",
       "    </tr>\n",
       "    <tr>\n",
       "      <th>1335</th>\n",
       "      <td>-1.509965</td>\n",
       "      <td>0</td>\n",
       "      <td>1.014878</td>\n",
       "      <td>0</td>\n",
       "      <td>0</td>\n",
       "      <td>2</td>\n",
       "      <td>-0.961596</td>\n",
       "    </tr>\n",
       "    <tr>\n",
       "      <th>1336</th>\n",
       "      <td>-1.296362</td>\n",
       "      <td>0</td>\n",
       "      <td>-0.797813</td>\n",
       "      <td>0</td>\n",
       "      <td>0</td>\n",
       "      <td>3</td>\n",
       "      <td>-0.930362</td>\n",
       "    </tr>\n",
       "    <tr>\n",
       "      <th>1337</th>\n",
       "      <td>1.551686</td>\n",
       "      <td>0</td>\n",
       "      <td>-0.261388</td>\n",
       "      <td>0</td>\n",
       "      <td>1</td>\n",
       "      <td>1</td>\n",
       "      <td>1.311053</td>\n",
       "    </tr>\n",
       "  </tbody>\n",
       "</table>\n",
       "<p>1338 rows × 7 columns</p>\n",
       "</div>"
      ],
      "text/plain": [
       "           age  sex       bmi  children  smoker  region   charges\n",
       "0    -1.438764    0 -0.453320         0       1       3  0.298584\n",
       "1    -1.509965    1  0.509621         1       0       2 -0.953689\n",
       "2    -0.797954    1  0.383307         3       0       2 -0.728675\n",
       "3    -0.441948    1 -1.305531         0       0       1  0.719843\n",
       "4    -0.513149    1 -0.292556         0       0       1 -0.776802\n",
       "...        ...  ...       ...       ...     ...     ...       ...\n",
       "1333  0.768473    1  0.050297         3       0       1 -0.220551\n",
       "1334 -1.509965    0  0.206139         0       0       0 -0.914002\n",
       "1335 -1.509965    0  1.014878         0       0       2 -0.961596\n",
       "1336 -1.296362    0 -0.797813         0       0       3 -0.930362\n",
       "1337  1.551686    0 -0.261388         0       1       1  1.311053\n",
       "\n",
       "[1338 rows x 7 columns]"
      ]
     },
     "execution_count": 95,
     "metadata": {},
     "output_type": "execute_result"
    }
   ],
   "source": [
    "Xprep['charges']=y\n",
    "Xprep"
   ]
  },
  {
   "cell_type": "markdown",
   "id": "4796c241",
   "metadata": {},
   "source": [
    "Step 4:\n",
    "\n",
    "Prepares the visualizations asked for(correlation matrix is by far the best one in my opinion)"
   ]
  },
  {
   "cell_type": "code",
   "execution_count": 24,
   "id": "0cf201c4",
   "metadata": {},
   "outputs": [
    {
     "data": {
      "text/plain": [
       "<seaborn.axisgrid.PairGrid at 0x2264e69f760>"
      ]
     },
     "execution_count": 24,
     "metadata": {},
     "output_type": "execute_result"
    },
    {
     "data": {
      "image/png": "[encoded data removed]",
      "text/plain": [
       "<Figure size 1260x1260 with 56 Axes>"
      ]
     },
     "metadata": {
      "needs_background": "light"
     },
     "output_type": "display_data"
    }
   ],
   "source": [
    "sns.pairplot(Xprep)"
   ]
  },
  {
   "cell_type": "code",
   "execution_count": 25,
   "id": "0f1361f6",
   "metadata": {
    "scrolled": true
   },
   "outputs": [
    {
     "data": {
      "text/plain": [
       "<AxesSubplot:>"
      ]
     },
     "execution_count": 25,
     "metadata": {},
     "output_type": "execute_result"
    },
    {
     "data": {
      "image/png": "[encoded data removed]",
      "text/plain": [
       "<Figure size 432x288 with 2 Axes>"
      ]
     },
     "metadata": {
      "needs_background": "light"
     },
     "output_type": "display_data"
    }
   ],
   "source": [
    "sns.heatmap(Xprep.corr())"
   ]
  },
  {
   "cell_type": "code",
   "execution_count": 26,
   "id": "3350039b",
   "metadata": {},
   "outputs": [],
   "source": [
    "y = Xprep.iloc[:, 6].values\n",
    "X = Xprep.iloc[:, 0:6].values"
   ]
  },
  {
   "cell_type": "code",
   "execution_count": 27,
   "id": "b4b4db9f",
   "metadata": {},
   "outputs": [
    {
     "data": {
      "text/plain": [
       "array([ 0.2985838 , -0.95368917, -0.72867467, ..., -0.96159623,\n",
       "       -0.93036151,  1.31105347])"
      ]
     },
     "execution_count": 27,
     "metadata": {},
     "output_type": "execute_result"
    }
   ],
   "source": [
    "y"
   ]
  },
  {
   "cell_type": "code",
   "execution_count": 28,
   "id": "6ec67606",
   "metadata": {},
   "outputs": [
    {
     "data": {
      "text/plain": [
       "array([[-1.43876426,  0.        , -0.45332   ,  0.        ,  1.        ,\n",
       "         3.        ],\n",
       "       [-1.50996545,  1.        ,  0.5096211 ,  1.        ,  0.        ,\n",
       "         2.        ],\n",
       "       [-0.79795355,  1.        ,  0.38330685,  3.        ,  0.        ,\n",
       "         2.        ],\n",
       "       ...,\n",
       "       [-1.50996545,  0.        ,  1.0148781 ,  0.        ,  0.        ,\n",
       "         2.        ],\n",
       "       [-1.29636188,  0.        , -0.79781341,  0.        ,  0.        ,\n",
       "         3.        ],\n",
       "       [ 1.55168573,  0.        , -0.26138796,  0.        ,  1.        ,\n",
       "         1.        ]])"
      ]
     },
     "execution_count": 28,
     "metadata": {},
     "output_type": "execute_result"
    }
   ],
   "source": [
    "X"
   ]
  },
  {
   "cell_type": "code",
   "execution_count": 29,
   "id": "ecb999ef",
   "metadata": {},
   "outputs": [
    {
     "data": {
      "text/plain": [
       "<AxesSubplot:>"
      ]
     },
     "execution_count": 29,
     "metadata": {},
     "output_type": "execute_result"
    },
    {
     "data": {
      "image/png": "[encoded data removed]",
      "text/plain": [
       "<Figure size 432x288 with 1 Axes>"
      ]
     },
     "metadata": {
      "needs_background": "light"
     },
     "output_type": "display_data"
    }
   ],
   "source": [
    "Xprep.boxplot()"
   ]
  },
  {
   "cell_type": "markdown",
   "id": "93f29790",
   "metadata": {},
   "source": [
    "Step 5:\n",
    "\n",
    "Splits the data"
   ]
  },
  {
   "cell_type": "code",
   "execution_count": 30,
   "id": "47836841",
   "metadata": {
    "collapsed": true
   },
   "outputs": [
    {
     "name": "stdout",
     "output_type": "stream",
     "text": [
      "[[-1.50996545  0.          0.20613881  0.          0.          0.        ]\n",
      " [-1.36756307  0.         -1.35228375  0.          1.          1.        ]\n",
      " [-0.51314879  1.         -0.41723022  4.          1.          1.        ]\n",
      " ...\n",
      " [-1.43876426  1.         -0.46398289  0.          0.          1.        ]\n",
      " [ 0.19886312  0.         -0.66657783  0.          1.          1.        ]\n",
      " [-0.65555117  0.         -1.75747362  3.          0.          1.        ]] [[-1.43876426e+00  0.00000000e+00  2.37307260e-01  0.00000000e+00\n",
      "   0.00000000e+00  1.00000000e+00]\n",
      " [ 1.69408811e+00  0.00000000e+00  1.01487810e+00  0.00000000e+00\n",
      "   0.00000000e+00  2.00000000e+00]\n",
      " [ 5.54869066e-01  1.00000000e+00 -1.36714155e-01  3.00000000e+00\n",
      "   0.00000000e+00  1.00000000e+00]\n",
      " [-7.97953548e-01  1.00000000e+00  1.21337192e+00  0.00000000e+00\n",
      "   0.00000000e+00  2.00000000e+00]\n",
      " [-3.70746407e-01  0.00000000e+00  2.06138809e-01  1.00000000e+00\n",
      "   1.00000000e+00  0.00000000e+00]\n",
      " [-5.13148787e-01  1.00000000e+00 -4.63982893e-01  1.00000000e+00\n",
      "   0.00000000e+00  1.00000000e+00]\n",
      " [-1.43876426e+00  1.00000000e+00 -2.16266348e+00  0.00000000e+00\n",
      "   0.00000000e+00  1.00000000e+00]\n",
      " [ 1.19567978e+00  0.00000000e+00 -8.79835650e-01  0.00000000e+00\n",
      "   0.00000000e+00  3.00000000e+00]\n",
      " [-8.59416459e-02  0.00000000e+00 -4.63982893e-01  2.00000000e+00\n",
      "   0.00000000e+00  0.00000000e+00]\n",
      " [ 6.26070256e-01  0.00000000e+00  2.56992598e-01  1.00000000e+00\n",
      "   0.00000000e+00  2.00000000e+00]\n",
      " [-1.36756307e+00  0.00000000e+00 -1.20403499e-02  0.00000000e+00\n",
      "   0.00000000e+00  0.00000000e+00]\n",
      " [ 1.05327740e+00  0.00000000e+00  2.02857919e-01  3.00000000e+00\n",
      "   0.00000000e+00  2.00000000e+00]\n",
      " [ 1.12447859e+00  0.00000000e+00  7.44204704e-01  0.00000000e+00\n",
      "   1.00000000e+00  2.00000000e+00]\n",
      " [-7.26752358e-01  0.00000000e+00  8.14650038e-02  0.00000000e+00\n",
      "   0.00000000e+00  0.00000000e+00]\n",
      " [ 1.19567978e+00  1.00000000e+00 -1.75747362e+00  0.00000000e+00\n",
      "   1.00000000e+00  0.00000000e+00]\n",
      " [ 1.48048454e+00  0.00000000e+00 -7.91251631e-01  0.00000000e+00\n",
      "   0.00000000e+00  1.00000000e+00]\n",
      " [ 1.26688097e+00  0.00000000e+00  1.90554583e-01  0.00000000e+00\n",
      "   0.00000000e+00  1.00000000e+00]\n",
      " [ 2.70064305e-01  0.00000000e+00 -8.84756984e-01  1.00000000e+00\n",
      "   1.00000000e+00  0.00000000e+00]\n",
      " [ 1.62288692e+00  1.00000000e+00 -5.10735570e-01  1.00000000e+00\n",
      "   0.00000000e+00  1.00000000e+00]\n",
      " [-1.36756307e+00  0.00000000e+00 -1.45399133e+00  0.00000000e+00\n",
      "   1.00000000e+00  3.00000000e+00]\n",
      " [ 5.54869066e-01  1.00000000e+00 -4.01645990e-01  3.00000000e+00\n",
      "   1.00000000e+00  1.00000000e+00]\n",
      " [ 1.19567978e+00  1.00000000e+00  1.58083155e+00  0.00000000e+00\n",
      "   0.00000000e+00  3.00000000e+00]\n",
      " [-1.29636188e+00  0.00000000e+00  6.90070025e-01  0.00000000e+00\n",
      "   0.00000000e+00  2.00000000e+00]\n",
      " [-1.22516069e+00  0.00000000e+00 -4.28713329e-01  0.00000000e+00\n",
      "   0.00000000e+00  2.00000000e+00]\n",
      " [-9.40355929e-01  0.00000000e+00 -2.14635283e-01  2.00000000e+00\n",
      "   0.00000000e+00  0.00000000e+00]\n",
      " [ 2.70064305e-01  1.00000000e+00 -9.24221452e-02  1.00000000e+00\n",
      "   0.00000000e+00  3.00000000e+00]\n",
      " [-8.69154738e-01  1.00000000e+00 -7.60083179e-01  0.00000000e+00\n",
      "   0.00000000e+00  0.00000000e+00]\n",
      " [ 5.54869066e-01  1.00000000e+00 -1.41635489e-01  3.00000000e+00\n",
      "   1.00000000e+00  3.00000000e+00]\n",
      " [-1.43876426e+00  0.00000000e+00 -1.41635489e-01  0.00000000e+00\n",
      "   0.00000000e+00  3.00000000e+00]\n",
      " [ 6.26070256e-01  1.00000000e+00  1.55622488e+00  0.00000000e+00\n",
      "   0.00000000e+00  2.00000000e+00]\n",
      " [ 1.19567978e+00  0.00000000e+00 -5.68151138e-01  0.00000000e+00\n",
      "   0.00000000e+00  3.00000000e+00]\n",
      " [-1.50996545e+00  0.00000000e+00 -6.45252043e-01  0.00000000e+00\n",
      "   0.00000000e+00  2.00000000e+00]\n",
      " [ 5.54869066e-01  1.00000000e+00 -4.01645990e-01  4.00000000e+00\n",
      "   0.00000000e+00  0.00000000e+00]\n",
      " [-2.28344026e-01  1.00000000e+00 -3.39309088e-01  3.00000000e+00\n",
      "   0.00000000e+00  1.00000000e+00]\n",
      " [ 1.76528930e+00  1.00000000e+00 -8.30622306e-01  2.00000000e+00\n",
      "   0.00000000e+00  3.00000000e+00]\n",
      " [-8.69154738e-01  1.00000000e+00 -3.54893313e-01  0.00000000e+00\n",
      "   1.00000000e+00  1.00000000e+00]\n",
      " [-1.43876426e+00  0.00000000e+00 -3.71297761e-01  1.00000000e+00\n",
      "   0.00000000e+00  3.00000000e+00]\n",
      " [ 3.41265495e-01  0.00000000e+00 -5.18937794e-01  1.00000000e+00\n",
      "   0.00000000e+00  3.00000000e+00]\n",
      " [ 3.41265495e-01  0.00000000e+00  1.35937150e+00  0.00000000e+00\n",
      "   1.00000000e+00  1.00000000e+00]\n",
      " [-3.70746407e-01  1.00000000e+00 -8.79835650e-01  2.00000000e+00\n",
      "   1.00000000e+00  2.00000000e+00]\n",
      " [-5.84349978e-01  0.00000000e+00 -2.56466625e-01  0.00000000e+00\n",
      "   0.00000000e+00  3.00000000e+00]\n",
      " [-1.15395950e+00  0.00000000e+00 -1.05618347e+00  2.00000000e+00\n",
      "   0.00000000e+00  0.00000000e+00]\n",
      " [ 1.55168573e+00  1.00000000e+00  2.08936944e+00  0.00000000e+00\n",
      "   0.00000000e+00  3.00000000e+00]\n",
      " [-1.29636188e+00  0.00000000e+00 -7.97813410e-01  0.00000000e+00\n",
      "   0.00000000e+00  3.00000000e+00]\n",
      " [-4.41947597e-01  1.00000000e+00 -9.93846563e-01  2.00000000e+00\n",
      "   0.00000000e+00  1.00000000e+00]\n",
      " [-1.29636188e+00  0.00000000e+00 -6.99386722e-01  1.00000000e+00\n",
      "   0.00000000e+00  3.00000000e+00]\n",
      " [-7.97953548e-01  0.00000000e+00 -5.18937794e-01  2.00000000e+00\n",
      "   0.00000000e+00  3.00000000e+00]\n",
      " [ 2.70064305e-01  1.00000000e+00  3.17689055e-01  2.00000000e+00\n",
      "   0.00000000e+00  3.00000000e+00]\n",
      " [-3.70746407e-01  1.00000000e+00  1.88103295e+00  2.00000000e+00\n",
      "   0.00000000e+00  2.00000000e+00]\n",
      " [-1.08275831e+00  1.00000000e+00  1.55622488e+00  0.00000000e+00\n",
      "   1.00000000e+00  2.00000000e+00]\n",
      " [-4.41947597e-01  0.00000000e+00 -6.50993600e-01  0.00000000e+00\n",
      "   0.00000000e+00  1.00000000e+00]\n",
      " [-1.43876426e+00  0.00000000e+00  4.01351740e-01  0.00000000e+00\n",
      "   1.00000000e+00  2.00000000e+00]\n",
      " [ 1.62288692e+00  0.00000000e+00 -9.29048994e-01  0.00000000e+00\n",
      "   0.00000000e+00  3.00000000e+00]\n",
      " [ 1.26688097e+00  1.00000000e+00 -1.14230682e+00  0.00000000e+00\n",
      "   0.00000000e+00  3.00000000e+00]\n",
      " [ 9.82076208e-01  0.00000000e+00  1.46600042e+00  1.00000000e+00\n",
      "   0.00000000e+00  2.00000000e+00]\n",
      " [-1.15395950e+00  0.00000000e+00  1.41186574e+00  2.00000000e+00\n",
      "   0.00000000e+00  2.00000000e+00]\n",
      " [-1.43876426e+00  1.00000000e+00  5.63755775e-01  0.00000000e+00\n",
      "   0.00000000e+00  3.00000000e+00]\n",
      " [-1.29636188e+00  0.00000000e+00  6.45778015e-01  0.00000000e+00\n",
      "   0.00000000e+00  3.00000000e+00]\n",
      " [-5.13148787e-01  0.00000000e+00 -1.41635489e-01  2.00000000e+00\n",
      "   0.00000000e+00  3.00000000e+00]\n",
      " [ 1.27661925e-01  1.00000000e+00 -1.20403499e-02  2.00000000e+00\n",
      "   0.00000000e+00  1.00000000e+00]\n",
      " [ 1.55168573e+00  1.00000000e+00  4.71070644e-01  0.00000000e+00\n",
      "   0.00000000e+00  0.00000000e+00]\n",
      " [-1.36756307e+00  0.00000000e+00  1.03948477e+00  5.00000000e+00\n",
      "   0.00000000e+00  3.00000000e+00]\n",
      " [-6.55551168e-01  0.00000000e+00 -1.27436262e+00  1.00000000e+00\n",
      "   0.00000000e+00  0.00000000e+00]\n",
      " [ 1.19567978e+00  0.00000000e+00 -3.39309088e-01  0.00000000e+00\n",
      "   0.00000000e+00  0.00000000e+00]\n",
      " [ 4.83667876e-01  1.00000000e+00  1.59313489e+00  2.00000000e+00\n",
      "   0.00000000e+00  1.00000000e+00]\n",
      " [-5.13148787e-01  1.00000000e+00  7.44204704e-01  2.00000000e+00\n",
      "   0.00000000e+00  3.00000000e+00]\n",
      " [ 1.05327740e+00  1.00000000e+00  1.62430334e+00  3.00000000e+00\n",
      "   1.00000000e+00  0.00000000e+00]\n",
      " [-9.40355929e-01  1.00000000e+00 -1.99051057e-01  0.00000000e+00\n",
      "   0.00000000e+00  0.00000000e+00]\n",
      " [-7.97953548e-01  0.00000000e+00 -7.13330502e-01  3.00000000e+00\n",
      "   0.00000000e+00  1.00000000e+00]\n",
      " [-1.50996545e+00  0.00000000e+00  1.24946170e+00  0.00000000e+00\n",
      "   0.00000000e+00  2.00000000e+00]\n",
      " [-7.26752358e-01  0.00000000e+00 -7.60083179e-01  0.00000000e+00\n",
      "   0.00000000e+00  1.00000000e+00]\n",
      " [-6.55551168e-01  1.00000000e+00  1.20835679e-01  1.00000000e+00\n",
      "   0.00000000e+00  3.00000000e+00]\n",
      " [-7.26752358e-01  1.00000000e+00  1.35773106e+00  1.00000000e+00\n",
      "   0.00000000e+00  2.00000000e+00]\n",
      " [ 6.26070256e-01  1.00000000e+00  2.68475711e-01  1.00000000e+00\n",
      "   0.00000000e+00  1.00000000e+00]\n",
      " [-1.47404557e-02  0.00000000e+00  5.99845561e-01  5.00000000e+00\n",
      "   0.00000000e+00  2.00000000e+00]\n",
      " [-8.69154738e-01  1.00000000e+00  3.29172169e-01  0.00000000e+00\n",
      "   0.00000000e+00  2.00000000e+00]\n",
      " [ 1.19567978e+00  0.00000000e+00 -6.66577826e-01  1.00000000e+00\n",
      "   0.00000000e+00  1.00000000e+00]\n",
      " [-1.36756307e+00  1.00000000e+00  4.37441526e-01  0.00000000e+00\n",
      "   0.00000000e+00  2.00000000e+00]\n",
      " [ 1.62288692e+00  1.00000000e+00 -1.51960912e+00  0.00000000e+00\n",
      "   0.00000000e+00  3.00000000e+00]\n",
      " [-1.08275831e+00  1.00000000e+00  8.52474060e-01  0.00000000e+00\n",
      "   0.00000000e+00  2.00000000e+00]\n",
      " [ 4.83667876e-01  0.00000000e+00 -1.14968882e+00  1.00000000e+00\n",
      "   1.00000000e+00  1.00000000e+00]\n",
      " [ 5.54869066e-01  1.00000000e+00  2.68475711e-01  1.00000000e+00\n",
      "   0.00000000e+00  3.00000000e+00]\n",
      " [-4.41947597e-01  0.00000000e+00 -3.92623544e-01  1.00000000e+00\n",
      "   0.00000000e+00  2.00000000e+00]\n",
      " [ 1.62288692e+00  0.00000000e+00  3.77565290e-01  3.00000000e+00\n",
      "   0.00000000e+00  1.00000000e+00]\n",
      " [-1.43876426e+00  0.00000000e+00  9.69765864e-01  0.00000000e+00\n",
      "   0.00000000e+00  1.00000000e+00]\n",
      " [-1.08275831e+00  1.00000000e+00 -3.54893313e-01  2.00000000e+00\n",
      "   0.00000000e+00  1.00000000e+00]\n",
      " [ 2.70064305e-01  0.00000000e+00 -9.78262338e-01  2.00000000e+00\n",
      "   1.00000000e+00  1.00000000e+00]\n",
      " [-1.15395950e+00  0.00000000e+00 -3.86061765e-01  0.00000000e+00\n",
      "   1.00000000e+00  1.00000000e+00]\n",
      " [-2.99545217e-01  1.00000000e+00 -2.89275521e-01  3.00000000e+00\n",
      "   0.00000000e+00  3.00000000e+00]\n",
      " [ 8.39673827e-01  0.00000000e+00 -1.65084471e+00  0.00000000e+00\n",
      "   0.00000000e+00  3.00000000e+00]\n",
      " [ 9.10875017e-01  0.00000000e+00  2.63891845e+00  5.00000000e+00\n",
      "   0.00000000e+00  2.00000000e+00]\n",
      " [ 1.27661925e-01  1.00000000e+00 -1.67882606e-01  5.00000000e+00\n",
      "   0.00000000e+00  0.00000000e+00]\n",
      " [ 1.27661925e-01  1.00000000e+00 -1.10293614e+00  1.00000000e+00\n",
      "   0.00000000e+00  0.00000000e+00]\n",
      " [-4.41947597e-01  1.00000000e+00  4.55486418e-01  5.00000000e+00\n",
      "   0.00000000e+00  2.00000000e+00]\n",
      " [ 1.40928335e+00  0.00000000e+00 -6.82162051e-01  0.00000000e+00\n",
      "   0.00000000e+00  0.00000000e+00]\n",
      " [-9.40355929e-01  0.00000000e+00 -1.67882606e-01  4.00000000e+00\n",
      "   0.00000000e+00  0.00000000e+00]\n",
      " [ 1.98863115e-01  0.00000000e+00 -2.72871073e-01  1.00000000e+00\n",
      "   0.00000000e+00  3.00000000e+00]\n",
      " [-1.36756307e+00  1.00000000e+00  1.60871911e+00  0.00000000e+00\n",
      "   0.00000000e+00  0.00000000e+00]\n",
      " [ 1.12447859e+00  0.00000000e+00 -1.58039937e-01  2.00000000e+00\n",
      "   0.00000000e+00  3.00000000e+00]\n",
      " [-8.59416459e-02  0.00000000e+00  6.78586911e-01  2.00000000e+00\n",
      "   0.00000000e+00  3.00000000e+00]\n",
      " [ 1.62288692e+00  1.00000000e+00  3.47123269e-02  3.00000000e+00\n",
      "   1.00000000e+00  1.00000000e+00]\n",
      " [-1.43876426e+00  1.00000000e+00 -4.32088011e-02  0.00000000e+00\n",
      "   0.00000000e+00  3.00000000e+00]\n",
      " [-1.01155712e+00  1.00000000e+00 -1.07176769e+00  0.00000000e+00\n",
      "   1.00000000e+00  1.00000000e+00]\n",
      " [-6.55551168e-01  1.00000000e+00  7.60609152e-01  0.00000000e+00\n",
      "   1.00000000e+00  3.00000000e+00]\n",
      " [-1.29636188e+00  1.00000000e+00  7.16223350e-02  0.00000000e+00\n",
      "   0.00000000e+00  3.00000000e+00]\n",
      " [ 5.64607346e-02  0.00000000e+00 -1.39995044e-01  1.00000000e+00\n",
      "   0.00000000e+00  2.00000000e+00]\n",
      " [-1.36756307e+00  1.00000000e+00  3.83306847e-01  1.00000000e+00\n",
      "   0.00000000e+00  3.00000000e+00]\n",
      " [-9.40355929e-01  0.00000000e+00  1.56196644e+00  0.00000000e+00\n",
      "   0.00000000e+00  1.00000000e+00]\n",
      " [ 1.26688097e+00  0.00000000e+00 -3.08140637e-01  4.00000000e+00\n",
      "   0.00000000e+00  0.00000000e+00]\n",
      " [ 4.83667876e-01  1.00000000e+00 -7.97813410e-01  5.00000000e+00\n",
      "   0.00000000e+00  3.00000000e+00]\n",
      " [ 1.05327740e+00  0.00000000e+00  8.45092059e-01  3.00000000e+00\n",
      "   0.00000000e+00  1.00000000e+00]\n",
      " [ 6.97271447e-01  1.00000000e+00 -7.91251631e-01  1.00000000e+00\n",
      "   0.00000000e+00  0.00000000e+00]\n",
      " [ 2.70064305e-01  1.00000000e+00 -5.41904021e-01  3.00000000e+00\n",
      "   0.00000000e+00  0.00000000e+00]\n",
      " [ 6.26070256e-01  0.00000000e+00 -1.28994685e+00  0.00000000e+00\n",
      "   0.00000000e+00  3.00000000e+00]\n",
      " [-1.29636188e+00  1.00000000e+00 -8.06835856e-01  2.00000000e+00\n",
      "   0.00000000e+00  0.00000000e+00]\n",
      " [ 4.12466686e-01  1.00000000e+00  1.49962953e+00  0.00000000e+00\n",
      "   0.00000000e+00  0.00000000e+00]\n",
      " [ 6.97271447e-01  1.00000000e+00  8.52474060e-01  0.00000000e+00\n",
      "   0.00000000e+00  2.00000000e+00]\n",
      " [ 1.05327740e+00  0.00000000e+00  2.68475711e-01  1.00000000e+00\n",
      "   0.00000000e+00  0.00000000e+00]\n",
      " [-1.50996545e+00  1.00000000e+00  1.74970357e-01  0.00000000e+00\n",
      "   1.00000000e+00  0.00000000e+00]\n",
      " [ 6.97271447e-01  1.00000000e+00 -1.33669953e+00  0.00000000e+00\n",
      "   0.00000000e+00  0.00000000e+00]\n",
      " [ 6.26070256e-01  0.00000000e+00  8.60676284e-01  1.00000000e+00\n",
      "   0.00000000e+00  0.00000000e+00]\n",
      " [ 1.48048454e+00  1.00000000e+00  1.68253913e+00  0.00000000e+00\n",
      "   1.00000000e+00  2.00000000e+00]\n",
      " [-1.22516069e+00  0.00000000e+00 -1.53929446e+00  3.00000000e+00\n",
      "   0.00000000e+00  1.00000000e+00]\n",
      " [ 1.69408811e+00  1.00000000e+00 -1.47695756e+00  1.00000000e+00\n",
      "   0.00000000e+00  1.00000000e+00]\n",
      " [ 1.40928335e+00  0.00000000e+00 -1.14968882e+00  0.00000000e+00\n",
      "   1.00000000e+00  1.00000000e+00]\n",
      " [-1.08275831e+00  1.00000000e+00  4.86654870e-01  4.00000000e+00\n",
      "   0.00000000e+00  0.00000000e+00]\n",
      " [ 1.98863115e-01  0.00000000e+00  1.74897714e+00  1.00000000e+00\n",
      "   0.00000000e+00  0.00000000e+00]\n",
      " [-3.70746407e-01  0.00000000e+00 -2.30219508e-01  3.00000000e+00\n",
      "   0.00000000e+00  2.00000000e+00]\n",
      " [ 9.82076208e-01  1.00000000e+00  9.73866976e-01  3.00000000e+00\n",
      "   0.00000000e+00  3.00000000e+00]\n",
      " [ 4.12466686e-01  1.00000000e+00 -5.18937794e-01  3.00000000e+00\n",
      "   0.00000000e+00  3.00000000e+00]\n",
      " [-1.15395950e+00  1.00000000e+00  7.44204704e-01  1.00000000e+00\n",
      "   0.00000000e+00  3.00000000e+00]\n",
      " [ 1.69408811e+00  1.00000000e+00  4.91576204e-01  3.00000000e+00\n",
      "   0.00000000e+00  2.00000000e+00]\n",
      " [ 1.55168573e+00  1.00000000e+00 -3.86061765e-01  1.00000000e+00\n",
      "   1.00000000e+00  1.00000000e+00]\n",
      " [ 1.12447859e+00  1.00000000e+00  3.54387571e-03  0.00000000e+00\n",
      "   1.00000000e+00  0.00000000e+00]] [[-1.01155712  0.         -1.33669953  1.          0.          1.        ]\n",
      " [ 0.55486907  0.         -0.74449895  1.          1.          0.        ]\n",
      " [ 1.62288692  1.         -0.6509936   0.          1.          0.        ]\n",
      " [ 1.40928335  1.         -0.30814064  0.          0.          1.        ]\n",
      " [-1.29636188  1.          1.01651854  0.          0.          1.        ]\n",
      " [ 1.33808216  0.          0.19055458  2.          0.          0.        ]\n",
      " [-0.22834403  0.         -1.39903643  3.          0.          0.        ]\n",
      " [-0.22834403  0.         -0.12195015  1.          0.          2.        ]\n",
      " [ 0.98207621  0.         -0.96267811  1.          0.          1.        ]\n",
      " [ 0.91087502  1.         -0.0760177   1.          0.          3.        ]\n",
      " [ 0.48366788  1.         -0.66329694  1.          0.          2.        ]\n",
      " [ 0.91087502  1.          0.56375578  0.          0.          2.        ]\n",
      " [-1.29636188  0.          1.44795552  0.          0.          2.        ]\n",
      " [-0.4419476   0.          0.92301319  3.          0.          0.        ]\n",
      " [ 1.33808216  0.          0.28405994  1.          0.          0.        ]\n",
      " [-0.86915474  1.         -1.24073351  0.          0.          2.        ]\n",
      " [ 0.41246669  0.         -0.90034121  2.          0.          0.        ]\n",
      " [-0.29954522  0.          2.07952677  2.          0.          2.        ]\n",
      " [ 0.41246669  0.         -0.33848887  2.          0.          2.        ]\n",
      " [ 1.69408811  1.          1.74897714  3.          0.          1.        ]\n",
      " [-1.29636188  0.         -1.39903643  0.          0.          0.        ]\n",
      " [ 0.12766192  0.          0.05849878  0.          0.          2.        ]\n",
      " [ 0.83967383  1.          2.0073472   2.          1.          2.        ]\n",
      " [-1.08275831  0.         -1.66396826  0.          1.          0.        ]\n",
      " [ 1.7652893   1.         -1.13246415  0.          1.          2.        ]\n",
      " [ 0.27006431  1.          0.70483403  1.          1.          0.        ]\n",
      " [-0.58434998  0.          0.97878831  2.          0.          2.        ]\n",
      " [-0.22834403  0.         -0.61982515  0.          0.          1.        ]\n",
      " [ 0.62607026  1.          0.59656467  3.          0.          3.        ]\n",
      " [ 1.12447859  0.         -0.08586037  2.          0.          2.        ]\n",
      " [-0.08594165  1.         -1.75747362  1.          0.          1.        ]\n",
      " [ 0.05646073  0.         -0.17444439  0.          0.          3.        ]\n",
      " [-0.4419476   1.         -0.06781547  0.          0.          2.        ]\n",
      " [-0.58434998  1.         -0.13999504  0.          1.          2.        ]\n",
      " [-1.50996545  1.         -1.2587784   0.          0.          0.        ]\n",
      " [-0.37074641  1.         -0.60096003  2.          0.          3.        ]\n",
      " [-0.58434998  0.         -0.80765608  0.          0.          2.        ]\n",
      " [-1.50996545  0.          1.56196644  0.          0.          0.        ]\n",
      " [ 0.83967383  1.          0.26847571  1.          0.          0.        ]\n",
      " [-1.1539595   1.          0.61296912  0.          0.          3.        ]\n",
      " [ 0.19886312  0.          0.36198106  0.          0.          0.        ]\n",
      " [-1.36756307  1.          0.07654367  2.          0.          2.        ]\n",
      " [-1.29636188  0.          0.33081261  2.          0.          1.        ]\n",
      " [ 1.40928335  1.         -0.69938672  0.          0.          2.        ]\n",
      " [ 1.40928335  0.          0.96074342  1.          0.          2.        ]\n",
      " [-0.29954522  0.          0.05521789  1.          0.          3.        ]\n",
      " [ 1.26688097  1.          1.57755066  0.          0.          0.        ]\n",
      " [ 0.3412655   1.          0.11263345  1.          1.          0.        ]\n",
      " [ 0.83967383  1.         -0.96267811  2.          1.          1.        ]\n",
      " [ 1.62288692  1.          1.52013509  0.          0.          2.        ]\n",
      " [ 0.48366788  0.         -0.28927552  2.          0.          3.        ]\n",
      " [ 0.76847264  1.          0.05029655  3.          0.          1.        ]\n",
      " [ 0.3412655   0.         -1.71072094  1.          1.          0.        ]\n",
      " [ 1.26688097  1.          1.88103295  1.          1.          2.        ]\n",
      " [ 1.40928335  0.          0.28405994  3.          0.          0.        ]\n",
      " [-0.08594165  1.         -0.23021951  2.          0.          1.        ]\n",
      " [-1.43876426  1.          0.67858691  0.          1.          3.        ]\n",
      " [-1.01155712  0.         -0.05961325  0.          0.          3.        ]\n",
      " [-1.50996545  0.          1.5020902   0.          0.          2.        ]\n",
      " [ 1.7652893   0.          0.51454243  1.          1.          3.        ]\n",
      " [-0.37074641  1.         -1.52371023  0.          0.          0.        ]\n",
      " [ 1.12447859  1.          0.34639684  0.          0.          1.        ]\n",
      " [ 0.12766192  1.          0.83442917  1.          1.          2.        ]\n",
      " [ 1.26688097  1.          0.54899177  0.          0.          1.        ]\n",
      " [ 1.40928335  1.          1.71862892  1.          1.          2.        ]\n",
      " [-0.4419476   1.         -0.58455559  1.          1.          3.        ]\n",
      " [ 0.27006431  0.         -1.74188939  2.          1.          0.        ]\n",
      " [-0.4419476   0.          1.35116928  3.          0.          3.        ]\n",
      " [-0.58434998  1.         -0.7756674   1.          0.          1.        ]\n",
      " [ 0.91087502  0.         -1.07176769  1.          1.          1.        ]\n",
      " [-1.01155712  1.         -0.15803994  3.          1.          3.        ]\n",
      " [ 0.3412655   0.          2.16975124  2.          1.          2.        ]\n",
      " [-1.22516069  0.          1.49962953  0.          0.          0.        ]\n",
      " [ 0.27006431  0.          0.81638427  1.          0.          2.        ]\n",
      " [-0.37074641  1.         -0.46398289  1.          1.          1.        ]\n",
      " [-1.08275831  1.         -0.22365773  0.          0.          3.        ]\n",
      " [-0.22834403  0.         -0.26630929  4.          0.          2.        ]\n",
      " [ 1.62288692  0.          0.41611574  0.          0.          3.        ]\n",
      " [ 0.27006431  1.         -1.22432906  0.          0.          3.        ]\n",
      " [ 1.12447859  1.         -0.49515134  0.          0.          1.        ]\n",
      " [-1.50996545  1.          0.16676813  2.          1.          2.        ]\n",
      " [ 1.0532774   0.          0.09458856  0.          0.          2.        ]\n",
      " [ 1.55168573  0.         -0.12195015  3.          1.          2.        ]\n",
      " [ 0.76847264  0.         -0.08996148  1.          0.          1.        ]\n",
      " [-1.43876426  1.         -0.76008318  1.          1.          1.        ]\n",
      " [ 0.3412655   1.          0.0043641   2.          0.          2.        ]\n",
      " [-0.58434998  1.         -1.6836536   0.          0.          3.        ]\n",
      " [-1.50996545  1.         -0.54190402  1.          1.          0.        ]\n",
      " [-1.1539595   0.         -0.35653376  1.          1.          2.        ]\n",
      " [-0.29954522  1.          0.98535009  1.          1.          0.        ]\n",
      " [-0.08594165  0.         -1.75747362  2.          0.          0.        ]\n",
      " [ 0.98207621  1.         -1.51960912  1.          0.          3.        ]\n",
      " [-0.79795355  1.          0.94105808  1.          1.          3.        ]\n",
      " [ 1.62288692  0.          1.40038262  0.          0.          3.        ]\n",
      " [ 0.05646073  1.         -0.7133305   1.          0.          1.        ]\n",
      " [ 1.62288692  0.          1.39382084  0.          0.          2.        ]\n",
      " [-1.1539595   0.          0.12083568  0.          1.          3.        ]\n",
      " [-0.29954522  0.          0.67858691  1.          0.          3.        ]\n",
      " [-1.50996545  0.          1.23141681  0.          0.          2.        ]\n",
      " [-1.22516069  1.         -0.38606176  1.          0.          1.        ]\n",
      " [-0.37074641  0.         -0.07437725  1.          1.          1.        ]\n",
      " [-1.1539595   0.         -0.43691555  0.          0.          3.        ]\n",
      " [ 1.48048454  0.          0.29308238  0.          1.          2.        ]\n",
      " [-0.15714284  1.          2.60282866  3.          0.          2.        ]\n",
      " [-1.08275831  1.          0.22090281  0.          0.          2.        ]\n",
      " [ 0.41246669  1.         -0.0760177   1.          0.          3.        ]\n",
      " [ 0.12766192  1.          0.0191281   3.          1.          0.        ]\n",
      " [ 1.7652893   0.         -0.08996148  3.          0.          1.        ]\n",
      " [ 0.69727145  0.         -1.11852037  3.          1.          0.        ]\n",
      " [-1.43876426  1.         -0.26138796  0.          1.          1.        ]\n",
      " [ 0.69727145  1.         -0.13671415  1.          0.          0.        ]\n",
      " [ 1.40928335  0.          0.11263345  0.          0.          1.        ]\n",
      " [-0.58434998  1.          0.06588078  3.          0.          1.        ]\n",
      " [ 0.19886312  1.          0.56375578  0.          0.          3.        ]\n",
      " [-0.22834403  1.          0.61789045  0.          1.          2.        ]\n",
      " [ 1.12447859  0.         -0.86917276  3.          0.          0.        ]\n",
      " [-1.29636188  0.          0.48665487  2.          0.          1.        ]\n",
      " [-1.01155712  1.         -0.6509936   4.          0.          1.        ]\n",
      " [-0.65555117  1.          1.17072035  2.          1.          3.        ]\n",
      " [ 0.91087502  1.         -1.04059924  3.          1.          0.        ]\n",
      " [ 0.83967383  0.          0.53340755  0.          0.          0.        ]\n",
      " [-0.37074641  0.          0.42431797  1.          0.          0.        ]\n",
      " [-1.50996545  0.          0.07654367  0.          0.          2.        ]\n",
      " [-0.51314879  0.         -0.99466679  0.          1.          3.        ]\n",
      " [-1.43876426  1.         -0.4861289   0.          1.          3.        ]\n",
      " [-0.37074641  0.         -0.51893779  1.          0.          3.        ]\n",
      " [-0.22834403  1.          0.61789045  2.          0.          2.        ]\n",
      " [-1.43876426  0.         -0.38770221  0.          1.          3.        ]\n",
      " [-0.15714284  0.          0.02240899  2.          0.          2.        ]\n",
      " [ 0.48366788  0.          2.85545716  2.          0.          0.        ]\n",
      " [-0.01474046  0.         -1.28994685  3.          0.          0.        ]\n",
      " [ 0.48366788  0.         -0.42871333  1.          0.          2.        ]\n",
      " [-1.50996545  1.         -0.74449895  0.          0.          0.        ]\n",
      " [-1.43876426  1.          0.7770136   0.          0.          3.        ]]\n"
     ]
    }
   ],
   "source": [
    "train_ratio = 0.80\n",
    "validation_ratio = 0.10\n",
    "test_ratio = 0.10\n",
    "# train is now 80% of the entire data set\n",
    "x_train, x_test, y_train, y_test = train_test_split(X, y, test_size=1 - train_ratio)\n",
    "\n",
    "# test is now 10% of the initial data set\n",
    "# validation is now 10% of the initial data set\n",
    "x_val, x_test, y_val, y_test = train_test_split(x_test, y_test, test_size=test_ratio/(test_ratio + validation_ratio)) \n",
    "\n",
    "print(x_train, x_val, x_test)"
   ]
  },
  {
   "cell_type": "markdown",
   "id": "42a28c68",
   "metadata": {},
   "source": [
    "Step 6.1:\n",
    "\n",
    "Trains the models and gets their scores and prints them below each model"
   ]
  },
  {
   "cell_type": "code",
   "execution_count": 42,
   "id": "4f4bc7e3",
   "metadata": {},
   "outputs": [],
   "source": [
    "Treeparam_grid = {'max_depth':range(10,50,5),\n",
    "                 'criterion':['mse','mae']} \n",
    "\n",
    "Treegrid = GridSearchCV(DecisionTreeRegressor(), Treeparam_grid, verbose=2, refit = True)\n",
    "\n"
   ]
  },
  {
   "cell_type": "code",
   "execution_count": 43,
   "id": "e650fede",
   "metadata": {},
   "outputs": [
    {
     "name": "stdout",
     "output_type": "stream",
     "text": [
      "Fitting 5 folds for each of 16 candidates, totalling 80 fits\n",
      "[CV] END ........................criterion=mse, max_depth=10; total time=   0.0s\n",
      "[CV] END ........................criterion=mse, max_depth=10; total time=   0.0s\n",
      "[CV] END ........................criterion=mse, max_depth=10; total time=   0.0s\n",
      "[CV] END ........................criterion=mse, max_depth=10; total time=   0.0s\n",
      "[CV] END ........................criterion=mse, max_depth=10; total time=   0.0s\n",
      "[CV] END ........................criterion=mse, max_depth=15; total time=   0.0s\n",
      "[CV] END ........................criterion=mse, max_depth=15; total time=   0.0s\n",
      "[CV] END ........................criterion=mse, max_depth=15; total time=   0.0s\n",
      "[CV] END ........................criterion=mse, max_depth=15; total time=   0.0s\n",
      "[CV] END ........................criterion=mse, max_depth=15; total time=   0.0s\n",
      "[CV] END ........................criterion=mse, max_depth=20; total time=   0.0s\n",
      "[CV] END ........................criterion=mse, max_depth=20; total time=   0.0s\n",
      "[CV] END ........................criterion=mse, max_depth=20; total time=   0.0s\n",
      "[CV] END ........................criterion=mse, max_depth=20; total time=   0.0s\n",
      "[CV] END ........................criterion=mse, max_depth=20; total time=   0.0s\n",
      "[CV] END ........................criterion=mse, max_depth=25; total time=   0.0s\n",
      "[CV] END ........................criterion=mse, max_depth=25; total time=   0.0s\n",
      "[CV] END ........................criterion=mse, max_depth=25; total time=   0.0s\n",
      "[CV] END ........................criterion=mse, max_depth=25; total time=   0.0s\n",
      "[CV] END ........................criterion=mse, max_depth=25; total time=   0.0s\n",
      "[CV] END ........................criterion=mse, max_depth=30; total time=   0.0s\n",
      "[CV] END ........................criterion=mse, max_depth=30; total time=   0.0s\n",
      "[CV] END ........................criterion=mse, max_depth=30; total time=   0.0s\n",
      "[CV] END ........................criterion=mse, max_depth=30; total time=   0.0s\n",
      "[CV] END ........................criterion=mse, max_depth=30; total time=   0.0s\n",
      "[CV] END ........................criterion=mse, max_depth=35; total time=   0.0s\n",
      "[CV] END ........................criterion=mse, max_depth=35; total time=   0.0s\n",
      "[CV] END ........................criterion=mse, max_depth=35; total time=   0.0s\n",
      "[CV] END ........................criterion=mse, max_depth=35; total time=   0.0s\n",
      "[CV] END ........................criterion=mse, max_depth=35; total time=   0.0s\n",
      "[CV] END ........................criterion=mse, max_depth=40; total time=   0.0s\n",
      "[CV] END ........................criterion=mse, max_depth=40; total time=   0.0s\n",
      "[CV] END ........................criterion=mse, max_depth=40; total time=   0.0s\n",
      "[CV] END ........................criterion=mse, max_depth=40; total time=   0.0s\n",
      "[CV] END ........................criterion=mse, max_depth=40; total time=   0.0s\n",
      "[CV] END ........................criterion=mse, max_depth=45; total time=   0.0s\n",
      "[CV] END ........................criterion=mse, max_depth=45; total time=   0.0s\n",
      "[CV] END ........................criterion=mse, max_depth=45; total time=   0.0s\n",
      "[CV] END ........................criterion=mse, max_depth=45; total time=   0.0s\n",
      "[CV] END ........................criterion=mse, max_depth=45; total time=   0.0s\n",
      "[CV] END ........................criterion=mae, max_depth=10; total time=   0.0s\n",
      "[CV] END ........................criterion=mae, max_depth=10; total time=   0.0s\n",
      "[CV] END ........................criterion=mae, max_depth=10; total time=   0.0s\n",
      "[CV] END ........................criterion=mae, max_depth=10; total time=   0.0s\n",
      "[CV] END ........................criterion=mae, max_depth=10; total time=   0.0s\n",
      "[CV] END ........................criterion=mae, max_depth=15; total time=   0.0s\n"
     ]
    },
    {
     "name": "stderr",
     "output_type": "stream",
     "text": [
      "D:\\Anaconda\\lib\\site-packages\\sklearn\\tree\\_classes.py:359: FutureWarning: Criterion 'mse' was deprecated in v1.0 and will be removed in version 1.2. Use `criterion='squared_error'` which is equivalent.\n",
      "  warnings.warn(\n",
      "D:\\Anaconda\\lib\\site-packages\\sklearn\\tree\\_classes.py:359: FutureWarning: Criterion 'mse' was deprecated in v1.0 and will be removed in version 1.2. Use `criterion='squared_error'` which is equivalent.\n",
      "  warnings.warn(\n",
      "D:\\Anaconda\\lib\\site-packages\\sklearn\\tree\\_classes.py:359: FutureWarning: Criterion 'mse' was deprecated in v1.0 and will be removed in version 1.2. Use `criterion='squared_error'` which is equivalent.\n",
      "  warnings.warn(\n",
      "D:\\Anaconda\\lib\\site-packages\\sklearn\\tree\\_classes.py:359: FutureWarning: Criterion 'mse' was deprecated in v1.0 and will be removed in version 1.2. Use `criterion='squared_error'` which is equivalent.\n",
      "  warnings.warn(\n",
      "D:\\Anaconda\\lib\\site-packages\\sklearn\\tree\\_classes.py:359: FutureWarning: Criterion 'mse' was deprecated in v1.0 and will be removed in version 1.2. Use `criterion='squared_error'` which is equivalent.\n",
      "  warnings.warn(\n",
      "D:\\Anaconda\\lib\\site-packages\\sklearn\\tree\\_classes.py:359: FutureWarning: Criterion 'mse' was deprecated in v1.0 and will be removed in version 1.2. Use `criterion='squared_error'` which is equivalent.\n",
      "  warnings.warn(\n",
      "D:\\Anaconda\\lib\\site-packages\\sklearn\\tree\\_classes.py:359: FutureWarning: Criterion 'mse' was deprecated in v1.0 and will be removed in version 1.2. Use `criterion='squared_error'` which is equivalent.\n",
      "  warnings.warn(\n",
      "D:\\Anaconda\\lib\\site-packages\\sklearn\\tree\\_classes.py:359: FutureWarning: Criterion 'mse' was deprecated in v1.0 and will be removed in version 1.2. Use `criterion='squared_error'` which is equivalent.\n",
      "  warnings.warn(\n",
      "D:\\Anaconda\\lib\\site-packages\\sklearn\\tree\\_classes.py:359: FutureWarning: Criterion 'mse' was deprecated in v1.0 and will be removed in version 1.2. Use `criterion='squared_error'` which is equivalent.\n",
      "  warnings.warn(\n",
      "D:\\Anaconda\\lib\\site-packages\\sklearn\\tree\\_classes.py:359: FutureWarning: Criterion 'mse' was deprecated in v1.0 and will be removed in version 1.2. Use `criterion='squared_error'` which is equivalent.\n",
      "  warnings.warn(\n",
      "D:\\Anaconda\\lib\\site-packages\\sklearn\\tree\\_classes.py:359: FutureWarning: Criterion 'mse' was deprecated in v1.0 and will be removed in version 1.2. Use `criterion='squared_error'` which is equivalent.\n",
      "  warnings.warn(\n",
      "D:\\Anaconda\\lib\\site-packages\\sklearn\\tree\\_classes.py:359: FutureWarning: Criterion 'mse' was deprecated in v1.0 and will be removed in version 1.2. Use `criterion='squared_error'` which is equivalent.\n",
      "  warnings.warn(\n",
      "D:\\Anaconda\\lib\\site-packages\\sklearn\\tree\\_classes.py:359: FutureWarning: Criterion 'mse' was deprecated in v1.0 and will be removed in version 1.2. Use `criterion='squared_error'` which is equivalent.\n",
      "  warnings.warn(\n",
      "D:\\Anaconda\\lib\\site-packages\\sklearn\\tree\\_classes.py:359: FutureWarning: Criterion 'mse' was deprecated in v1.0 and will be removed in version 1.2. Use `criterion='squared_error'` which is equivalent.\n",
      "  warnings.warn(\n",
      "D:\\Anaconda\\lib\\site-packages\\sklearn\\tree\\_classes.py:359: FutureWarning: Criterion 'mse' was deprecated in v1.0 and will be removed in version 1.2. Use `criterion='squared_error'` which is equivalent.\n",
      "  warnings.warn(\n",
      "D:\\Anaconda\\lib\\site-packages\\sklearn\\tree\\_classes.py:359: FutureWarning: Criterion 'mse' was deprecated in v1.0 and will be removed in version 1.2. Use `criterion='squared_error'` which is equivalent.\n",
      "  warnings.warn(\n",
      "D:\\Anaconda\\lib\\site-packages\\sklearn\\tree\\_classes.py:359: FutureWarning: Criterion 'mse' was deprecated in v1.0 and will be removed in version 1.2. Use `criterion='squared_error'` which is equivalent.\n",
      "  warnings.warn(\n",
      "D:\\Anaconda\\lib\\site-packages\\sklearn\\tree\\_classes.py:359: FutureWarning: Criterion 'mse' was deprecated in v1.0 and will be removed in version 1.2. Use `criterion='squared_error'` which is equivalent.\n",
      "  warnings.warn(\n",
      "D:\\Anaconda\\lib\\site-packages\\sklearn\\tree\\_classes.py:359: FutureWarning: Criterion 'mse' was deprecated in v1.0 and will be removed in version 1.2. Use `criterion='squared_error'` which is equivalent.\n",
      "  warnings.warn(\n",
      "D:\\Anaconda\\lib\\site-packages\\sklearn\\tree\\_classes.py:359: FutureWarning: Criterion 'mse' was deprecated in v1.0 and will be removed in version 1.2. Use `criterion='squared_error'` which is equivalent.\n",
      "  warnings.warn(\n",
      "D:\\Anaconda\\lib\\site-packages\\sklearn\\tree\\_classes.py:359: FutureWarning: Criterion 'mse' was deprecated in v1.0 and will be removed in version 1.2. Use `criterion='squared_error'` which is equivalent.\n",
      "  warnings.warn(\n",
      "D:\\Anaconda\\lib\\site-packages\\sklearn\\tree\\_classes.py:359: FutureWarning: Criterion 'mse' was deprecated in v1.0 and will be removed in version 1.2. Use `criterion='squared_error'` which is equivalent.\n",
      "  warnings.warn(\n",
      "D:\\Anaconda\\lib\\site-packages\\sklearn\\tree\\_classes.py:359: FutureWarning: Criterion 'mse' was deprecated in v1.0 and will be removed in version 1.2. Use `criterion='squared_error'` which is equivalent.\n",
      "  warnings.warn(\n",
      "D:\\Anaconda\\lib\\site-packages\\sklearn\\tree\\_classes.py:359: FutureWarning: Criterion 'mse' was deprecated in v1.0 and will be removed in version 1.2. Use `criterion='squared_error'` which is equivalent.\n",
      "  warnings.warn(\n",
      "D:\\Anaconda\\lib\\site-packages\\sklearn\\tree\\_classes.py:359: FutureWarning: Criterion 'mse' was deprecated in v1.0 and will be removed in version 1.2. Use `criterion='squared_error'` which is equivalent.\n",
      "  warnings.warn(\n",
      "D:\\Anaconda\\lib\\site-packages\\sklearn\\tree\\_classes.py:359: FutureWarning: Criterion 'mse' was deprecated in v1.0 and will be removed in version 1.2. Use `criterion='squared_error'` which is equivalent.\n",
      "  warnings.warn(\n",
      "D:\\Anaconda\\lib\\site-packages\\sklearn\\tree\\_classes.py:359: FutureWarning: Criterion 'mse' was deprecated in v1.0 and will be removed in version 1.2. Use `criterion='squared_error'` which is equivalent.\n",
      "  warnings.warn(\n",
      "D:\\Anaconda\\lib\\site-packages\\sklearn\\tree\\_classes.py:359: FutureWarning: Criterion 'mse' was deprecated in v1.0 and will be removed in version 1.2. Use `criterion='squared_error'` which is equivalent.\n",
      "  warnings.warn(\n",
      "D:\\Anaconda\\lib\\site-packages\\sklearn\\tree\\_classes.py:359: FutureWarning: Criterion 'mse' was deprecated in v1.0 and will be removed in version 1.2. Use `criterion='squared_error'` which is equivalent.\n",
      "  warnings.warn(\n",
      "D:\\Anaconda\\lib\\site-packages\\sklearn\\tree\\_classes.py:359: FutureWarning: Criterion 'mse' was deprecated in v1.0 and will be removed in version 1.2. Use `criterion='squared_error'` which is equivalent.\n",
      "  warnings.warn(\n",
      "D:\\Anaconda\\lib\\site-packages\\sklearn\\tree\\_classes.py:359: FutureWarning: Criterion 'mse' was deprecated in v1.0 and will be removed in version 1.2. Use `criterion='squared_error'` which is equivalent.\n",
      "  warnings.warn(\n",
      "D:\\Anaconda\\lib\\site-packages\\sklearn\\tree\\_classes.py:359: FutureWarning: Criterion 'mse' was deprecated in v1.0 and will be removed in version 1.2. Use `criterion='squared_error'` which is equivalent.\n",
      "  warnings.warn(\n",
      "D:\\Anaconda\\lib\\site-packages\\sklearn\\tree\\_classes.py:359: FutureWarning: Criterion 'mse' was deprecated in v1.0 and will be removed in version 1.2. Use `criterion='squared_error'` which is equivalent.\n",
      "  warnings.warn(\n",
      "D:\\Anaconda\\lib\\site-packages\\sklearn\\tree\\_classes.py:359: FutureWarning: Criterion 'mse' was deprecated in v1.0 and will be removed in version 1.2. Use `criterion='squared_error'` which is equivalent.\n",
      "  warnings.warn(\n",
      "D:\\Anaconda\\lib\\site-packages\\sklearn\\tree\\_classes.py:359: FutureWarning: Criterion 'mse' was deprecated in v1.0 and will be removed in version 1.2. Use `criterion='squared_error'` which is equivalent.\n",
      "  warnings.warn(\n",
      "D:\\Anaconda\\lib\\site-packages\\sklearn\\tree\\_classes.py:359: FutureWarning: Criterion 'mse' was deprecated in v1.0 and will be removed in version 1.2. Use `criterion='squared_error'` which is equivalent.\n",
      "  warnings.warn(\n",
      "D:\\Anaconda\\lib\\site-packages\\sklearn\\tree\\_classes.py:359: FutureWarning: Criterion 'mse' was deprecated in v1.0 and will be removed in version 1.2. Use `criterion='squared_error'` which is equivalent.\n",
      "  warnings.warn(\n",
      "D:\\Anaconda\\lib\\site-packages\\sklearn\\tree\\_classes.py:359: FutureWarning: Criterion 'mse' was deprecated in v1.0 and will be removed in version 1.2. Use `criterion='squared_error'` which is equivalent.\n",
      "  warnings.warn(\n",
      "D:\\Anaconda\\lib\\site-packages\\sklearn\\tree\\_classes.py:359: FutureWarning: Criterion 'mse' was deprecated in v1.0 and will be removed in version 1.2. Use `criterion='squared_error'` which is equivalent.\n",
      "  warnings.warn(\n",
      "D:\\Anaconda\\lib\\site-packages\\sklearn\\tree\\_classes.py:359: FutureWarning: Criterion 'mse' was deprecated in v1.0 and will be removed in version 1.2. Use `criterion='squared_error'` which is equivalent.\n",
      "  warnings.warn(\n",
      "D:\\Anaconda\\lib\\site-packages\\sklearn\\tree\\_classes.py:366: FutureWarning: Criterion 'mae' was deprecated in v1.0 and will be removed in version 1.2. Use `criterion='absolute_error'` which is equivalent.\n",
      "  warnings.warn(\n",
      "D:\\Anaconda\\lib\\site-packages\\sklearn\\tree\\_classes.py:366: FutureWarning: Criterion 'mae' was deprecated in v1.0 and will be removed in version 1.2. Use `criterion='absolute_error'` which is equivalent.\n",
      "  warnings.warn(\n",
      "D:\\Anaconda\\lib\\site-packages\\sklearn\\tree\\_classes.py:366: FutureWarning: Criterion 'mae' was deprecated in v1.0 and will be removed in version 1.2. Use `criterion='absolute_error'` which is equivalent.\n",
      "  warnings.warn(\n",
      "D:\\Anaconda\\lib\\site-packages\\sklearn\\tree\\_classes.py:366: FutureWarning: Criterion 'mae' was deprecated in v1.0 and will be removed in version 1.2. Use `criterion='absolute_error'` which is equivalent.\n",
      "  warnings.warn(\n",
      "D:\\Anaconda\\lib\\site-packages\\sklearn\\tree\\_classes.py:366: FutureWarning: Criterion 'mae' was deprecated in v1.0 and will be removed in version 1.2. Use `criterion='absolute_error'` which is equivalent.\n",
      "  warnings.warn(\n",
      "D:\\Anaconda\\lib\\site-packages\\sklearn\\tree\\_classes.py:366: FutureWarning: Criterion 'mae' was deprecated in v1.0 and will be removed in version 1.2. Use `criterion='absolute_error'` which is equivalent.\n",
      "  warnings.warn(\n"
     ]
    },
    {
     "name": "stderr",
     "output_type": "stream",
     "text": [
      "D:\\Anaconda\\lib\\site-packages\\sklearn\\tree\\_classes.py:366: FutureWarning: Criterion 'mae' was deprecated in v1.0 and will be removed in version 1.2. Use `criterion='absolute_error'` which is equivalent.\n",
      "  warnings.warn(\n",
      "D:\\Anaconda\\lib\\site-packages\\sklearn\\tree\\_classes.py:366: FutureWarning: Criterion 'mae' was deprecated in v1.0 and will be removed in version 1.2. Use `criterion='absolute_error'` which is equivalent.\n",
      "  warnings.warn(\n",
      "D:\\Anaconda\\lib\\site-packages\\sklearn\\tree\\_classes.py:366: FutureWarning: Criterion 'mae' was deprecated in v1.0 and will be removed in version 1.2. Use `criterion='absolute_error'` which is equivalent.\n",
      "  warnings.warn(\n",
      "D:\\Anaconda\\lib\\site-packages\\sklearn\\tree\\_classes.py:366: FutureWarning: Criterion 'mae' was deprecated in v1.0 and will be removed in version 1.2. Use `criterion='absolute_error'` which is equivalent.\n",
      "  warnings.warn(\n",
      "D:\\Anaconda\\lib\\site-packages\\sklearn\\tree\\_classes.py:366: FutureWarning: Criterion 'mae' was deprecated in v1.0 and will be removed in version 1.2. Use `criterion='absolute_error'` which is equivalent.\n",
      "  warnings.warn(\n",
      "D:\\Anaconda\\lib\\site-packages\\sklearn\\tree\\_classes.py:366: FutureWarning: Criterion 'mae' was deprecated in v1.0 and will be removed in version 1.2. Use `criterion='absolute_error'` which is equivalent.\n",
      "  warnings.warn(\n",
      "D:\\Anaconda\\lib\\site-packages\\sklearn\\tree\\_classes.py:366: FutureWarning: Criterion 'mae' was deprecated in v1.0 and will be removed in version 1.2. Use `criterion='absolute_error'` which is equivalent.\n",
      "  warnings.warn(\n",
      "D:\\Anaconda\\lib\\site-packages\\sklearn\\tree\\_classes.py:366: FutureWarning: Criterion 'mae' was deprecated in v1.0 and will be removed in version 1.2. Use `criterion='absolute_error'` which is equivalent.\n",
      "  warnings.warn(\n",
      "D:\\Anaconda\\lib\\site-packages\\sklearn\\tree\\_classes.py:366: FutureWarning: Criterion 'mae' was deprecated in v1.0 and will be removed in version 1.2. Use `criterion='absolute_error'` which is equivalent.\n",
      "  warnings.warn(\n",
      "D:\\Anaconda\\lib\\site-packages\\sklearn\\tree\\_classes.py:366: FutureWarning: Criterion 'mae' was deprecated in v1.0 and will be removed in version 1.2. Use `criterion='absolute_error'` which is equivalent.\n",
      "  warnings.warn(\n",
      "D:\\Anaconda\\lib\\site-packages\\sklearn\\tree\\_classes.py:366: FutureWarning: Criterion 'mae' was deprecated in v1.0 and will be removed in version 1.2. Use `criterion='absolute_error'` which is equivalent.\n",
      "  warnings.warn(\n"
     ]
    },
    {
     "name": "stdout",
     "output_type": "stream",
     "text": [
      "[CV] END ........................criterion=mae, max_depth=15; total time=   0.0s\n",
      "[CV] END ........................criterion=mae, max_depth=15; total time=   0.0s\n",
      "[CV] END ........................criterion=mae, max_depth=15; total time=   0.0s\n",
      "[CV] END ........................criterion=mae, max_depth=15; total time=   0.0s\n",
      "[CV] END ........................criterion=mae, max_depth=20; total time=   0.0s\n",
      "[CV] END ........................criterion=mae, max_depth=20; total time=   0.0s\n",
      "[CV] END ........................criterion=mae, max_depth=20; total time=   0.0s\n",
      "[CV] END ........................criterion=mae, max_depth=20; total time=   0.0s\n",
      "[CV] END ........................criterion=mae, max_depth=20; total time=   0.0s\n",
      "[CV] END ........................criterion=mae, max_depth=25; total time=   0.0s\n",
      "[CV] END ........................criterion=mae, max_depth=25; total time=   0.0s\n",
      "[CV] END ........................criterion=mae, max_depth=25; total time=   0.0s\n"
     ]
    },
    {
     "name": "stderr",
     "output_type": "stream",
     "text": [
      "D:\\Anaconda\\lib\\site-packages\\sklearn\\tree\\_classes.py:366: FutureWarning: Criterion 'mae' was deprecated in v1.0 and will be removed in version 1.2. Use `criterion='absolute_error'` which is equivalent.\n",
      "  warnings.warn(\n",
      "D:\\Anaconda\\lib\\site-packages\\sklearn\\tree\\_classes.py:366: FutureWarning: Criterion 'mae' was deprecated in v1.0 and will be removed in version 1.2. Use `criterion='absolute_error'` which is equivalent.\n",
      "  warnings.warn(\n",
      "D:\\Anaconda\\lib\\site-packages\\sklearn\\tree\\_classes.py:366: FutureWarning: Criterion 'mae' was deprecated in v1.0 and will be removed in version 1.2. Use `criterion='absolute_error'` which is equivalent.\n",
      "  warnings.warn(\n",
      "D:\\Anaconda\\lib\\site-packages\\sklearn\\tree\\_classes.py:366: FutureWarning: Criterion 'mae' was deprecated in v1.0 and will be removed in version 1.2. Use `criterion='absolute_error'` which is equivalent.\n",
      "  warnings.warn(\n",
      "D:\\Anaconda\\lib\\site-packages\\sklearn\\tree\\_classes.py:366: FutureWarning: Criterion 'mae' was deprecated in v1.0 and will be removed in version 1.2. Use `criterion='absolute_error'` which is equivalent.\n",
      "  warnings.warn(\n",
      "D:\\Anaconda\\lib\\site-packages\\sklearn\\tree\\_classes.py:366: FutureWarning: Criterion 'mae' was deprecated in v1.0 and will be removed in version 1.2. Use `criterion='absolute_error'` which is equivalent.\n",
      "  warnings.warn(\n",
      "D:\\Anaconda\\lib\\site-packages\\sklearn\\tree\\_classes.py:366: FutureWarning: Criterion 'mae' was deprecated in v1.0 and will be removed in version 1.2. Use `criterion='absolute_error'` which is equivalent.\n",
      "  warnings.warn(\n",
      "D:\\Anaconda\\lib\\site-packages\\sklearn\\tree\\_classes.py:366: FutureWarning: Criterion 'mae' was deprecated in v1.0 and will be removed in version 1.2. Use `criterion='absolute_error'` which is equivalent.\n",
      "  warnings.warn(\n",
      "D:\\Anaconda\\lib\\site-packages\\sklearn\\tree\\_classes.py:366: FutureWarning: Criterion 'mae' was deprecated in v1.0 and will be removed in version 1.2. Use `criterion='absolute_error'` which is equivalent.\n",
      "  warnings.warn(\n",
      "D:\\Anaconda\\lib\\site-packages\\sklearn\\tree\\_classes.py:366: FutureWarning: Criterion 'mae' was deprecated in v1.0 and will be removed in version 1.2. Use `criterion='absolute_error'` which is equivalent.\n",
      "  warnings.warn(\n",
      "D:\\Anaconda\\lib\\site-packages\\sklearn\\tree\\_classes.py:366: FutureWarning: Criterion 'mae' was deprecated in v1.0 and will be removed in version 1.2. Use `criterion='absolute_error'` which is equivalent.\n",
      "  warnings.warn(\n"
     ]
    },
    {
     "name": "stdout",
     "output_type": "stream",
     "text": [
      "[CV] END ........................criterion=mae, max_depth=25; total time=   0.0s\n",
      "[CV] END ........................criterion=mae, max_depth=25; total time=   0.0s\n",
      "[CV] END ........................criterion=mae, max_depth=30; total time=   0.0s\n",
      "[CV] END ........................criterion=mae, max_depth=30; total time=   0.0s\n",
      "[CV] END ........................criterion=mae, max_depth=30; total time=   0.0s\n",
      "[CV] END ........................criterion=mae, max_depth=30; total time=   0.0s\n",
      "[CV] END ........................criterion=mae, max_depth=30; total time=   0.0s\n",
      "[CV] END ........................criterion=mae, max_depth=35; total time=   0.0s\n",
      "[CV] END ........................criterion=mae, max_depth=35; total time=   0.0s\n",
      "[CV] END ........................criterion=mae, max_depth=35; total time=   0.0s\n",
      "[CV] END ........................criterion=mae, max_depth=35; total time=   0.0s\n",
      "[CV] END ........................criterion=mae, max_depth=35; total time=   0.0s\n"
     ]
    },
    {
     "name": "stderr",
     "output_type": "stream",
     "text": [
      "D:\\Anaconda\\lib\\site-packages\\sklearn\\tree\\_classes.py:366: FutureWarning: Criterion 'mae' was deprecated in v1.0 and will be removed in version 1.2. Use `criterion='absolute_error'` which is equivalent.\n",
      "  warnings.warn(\n",
      "D:\\Anaconda\\lib\\site-packages\\sklearn\\tree\\_classes.py:366: FutureWarning: Criterion 'mae' was deprecated in v1.0 and will be removed in version 1.2. Use `criterion='absolute_error'` which is equivalent.\n",
      "  warnings.warn(\n",
      "D:\\Anaconda\\lib\\site-packages\\sklearn\\tree\\_classes.py:366: FutureWarning: Criterion 'mae' was deprecated in v1.0 and will be removed in version 1.2. Use `criterion='absolute_error'` which is equivalent.\n",
      "  warnings.warn(\n",
      "D:\\Anaconda\\lib\\site-packages\\sklearn\\tree\\_classes.py:366: FutureWarning: Criterion 'mae' was deprecated in v1.0 and will be removed in version 1.2. Use `criterion='absolute_error'` which is equivalent.\n",
      "  warnings.warn(\n",
      "D:\\Anaconda\\lib\\site-packages\\sklearn\\tree\\_classes.py:366: FutureWarning: Criterion 'mae' was deprecated in v1.0 and will be removed in version 1.2. Use `criterion='absolute_error'` which is equivalent.\n",
      "  warnings.warn(\n",
      "D:\\Anaconda\\lib\\site-packages\\sklearn\\tree\\_classes.py:366: FutureWarning: Criterion 'mae' was deprecated in v1.0 and will be removed in version 1.2. Use `criterion='absolute_error'` which is equivalent.\n",
      "  warnings.warn(\n",
      "D:\\Anaconda\\lib\\site-packages\\sklearn\\tree\\_classes.py:366: FutureWarning: Criterion 'mae' was deprecated in v1.0 and will be removed in version 1.2. Use `criterion='absolute_error'` which is equivalent.\n",
      "  warnings.warn(\n",
      "D:\\Anaconda\\lib\\site-packages\\sklearn\\tree\\_classes.py:366: FutureWarning: Criterion 'mae' was deprecated in v1.0 and will be removed in version 1.2. Use `criterion='absolute_error'` which is equivalent.\n",
      "  warnings.warn(\n",
      "D:\\Anaconda\\lib\\site-packages\\sklearn\\tree\\_classes.py:366: FutureWarning: Criterion 'mae' was deprecated in v1.0 and will be removed in version 1.2. Use `criterion='absolute_error'` which is equivalent.\n",
      "  warnings.warn(\n",
      "D:\\Anaconda\\lib\\site-packages\\sklearn\\tree\\_classes.py:366: FutureWarning: Criterion 'mae' was deprecated in v1.0 and will be removed in version 1.2. Use `criterion='absolute_error'` which is equivalent.\n",
      "  warnings.warn(\n",
      "D:\\Anaconda\\lib\\site-packages\\sklearn\\tree\\_classes.py:366: FutureWarning: Criterion 'mae' was deprecated in v1.0 and will be removed in version 1.2. Use `criterion='absolute_error'` which is equivalent.\n",
      "  warnings.warn(\n"
     ]
    },
    {
     "name": "stdout",
     "output_type": "stream",
     "text": [
      "[CV] END ........................criterion=mae, max_depth=40; total time=   0.0s\n",
      "[CV] END ........................criterion=mae, max_depth=40; total time=   0.0s\n",
      "[CV] END ........................criterion=mae, max_depth=40; total time=   0.0s\n",
      "[CV] END ........................criterion=mae, max_depth=40; total time=   0.0s\n",
      "[CV] END ........................criterion=mae, max_depth=40; total time=   0.0s\n",
      "[CV] END ........................criterion=mae, max_depth=45; total time=   0.0s\n",
      "[CV] END ........................criterion=mae, max_depth=45; total time=   0.0s\n",
      "[CV] END ........................criterion=mae, max_depth=45; total time=   0.0s\n",
      "[CV] END ........................criterion=mae, max_depth=45; total time=   0.0s\n",
      "[CV] END ........................criterion=mae, max_depth=45; total time=   0.0s\n"
     ]
    },
    {
     "name": "stderr",
     "output_type": "stream",
     "text": [
      "D:\\Anaconda\\lib\\site-packages\\sklearn\\tree\\_classes.py:366: FutureWarning: Criterion 'mae' was deprecated in v1.0 and will be removed in version 1.2. Use `criterion='absolute_error'` which is equivalent.\n",
      "  warnings.warn(\n",
      "D:\\Anaconda\\lib\\site-packages\\sklearn\\tree\\_classes.py:366: FutureWarning: Criterion 'mae' was deprecated in v1.0 and will be removed in version 1.2. Use `criterion='absolute_error'` which is equivalent.\n",
      "  warnings.warn(\n"
     ]
    },
    {
     "data": {
      "text/plain": [
       "GridSearchCV(estimator=DecisionTreeRegressor(),\n",
       "             param_grid={'criterion': ['mse', 'mae'],\n",
       "                         'max_depth': range(10, 50, 5)},\n",
       "             verbose=2)"
      ]
     },
     "execution_count": 43,
     "metadata": {},
     "output_type": "execute_result"
    }
   ],
   "source": [
    "Treegrid.fit(x_train,y_train)"
   ]
  },
  {
   "cell_type": "code",
   "execution_count": 44,
   "id": "38d312c0",
   "metadata": {
    "scrolled": true
   },
   "outputs": [
    {
     "name": "stdout",
     "output_type": "stream",
     "text": [
      "The best parameters are {'criterion': 'mae', 'max_depth': 10} with a score of 0.69\n"
     ]
    }
   ],
   "source": [
    "print('The best parameters are %s with a score of %0.2f' \n",
    "      % (Treegrid.best_params_, Treegrid.best_score_))"
   ]
  },
  {
   "cell_type": "code",
   "execution_count": 96,
   "id": "a8deb9e6",
   "metadata": {},
   "outputs": [
    {
     "name": "stderr",
     "output_type": "stream",
     "text": [
      "D:\\Anaconda\\lib\\site-packages\\sklearn\\tree\\_classes.py:366: FutureWarning: Criterion 'mae' was deprecated in v1.0 and will be removed in version 1.2. Use `criterion='absolute_error'` which is equivalent.\n",
      "  warnings.warn(\n"
     ]
    }
   ],
   "source": [
    "Treemodel = DecisionTreeRegressor(criterion='mae',max_depth=10,random_state=0)\n",
    "Treemodel.fit(x_train, y_train)\n",
    "Tree_pred = Treemodel.predict(x_test)\n",
    "Treescore = Treemodel.score(x_val,y_val)"
   ]
  },
  {
   "cell_type": "code",
   "execution_count": 97,
   "id": "831e483a",
   "metadata": {},
   "outputs": [
    {
     "name": "stdout",
     "output_type": "stream",
     "text": [
      "0.677023190429088\n"
     ]
    }
   ],
   "source": [
    "print(Treescore)"
   ]
  },
  {
   "cell_type": "code",
   "execution_count": 98,
   "id": "ea39a870",
   "metadata": {},
   "outputs": [
    {
     "data": {
      "text/plain": [
       "0.899074721772739"
      ]
     },
     "execution_count": 98,
     "metadata": {},
     "output_type": "execute_result"
    }
   ],
   "source": [
    "DTR2= r2_score(y_test,Tree_pred)\n",
    "DTR2"
   ]
  },
  {
   "cell_type": "code",
   "execution_count": 67,
   "id": "ea6a81c6",
   "metadata": {},
   "outputs": [
    {
     "name": "stdout",
     "output_type": "stream",
     "text": [
      "MAE: 0.1363226338311226\n"
     ]
    }
   ],
   "source": [
    "print('MAE: ' + str(mean_absolute_error(y_test,Tree_pred)))"
   ]
  },
  {
   "cell_type": "code",
   "execution_count": 68,
   "id": "fc384f85",
   "metadata": {},
   "outputs": [
    {
     "name": "stdout",
     "output_type": "stream",
     "text": [
      "MSE: 0.11389602660107795\n"
     ]
    }
   ],
   "source": [
    "print('MSE: ' + str(mean_squared_error(y_test,Tree_pred)))"
   ]
  },
  {
   "cell_type": "code",
   "execution_count": 71,
   "id": "ad55cedd",
   "metadata": {},
   "outputs": [],
   "source": [
    "RFparam_grid = {'n_estimators':range(50,100,10),\n",
    "                 'criterion':['mse','mae']} \n",
    "\n",
    "RFgrid = GridSearchCV(RandomForestRegressor(), RFparam_grid, verbose=2, refit = True)\n",
    "\n"
   ]
  },
  {
   "cell_type": "code",
   "execution_count": 72,
   "id": "74b9329f",
   "metadata": {},
   "outputs": [
    {
     "name": "stdout",
     "output_type": "stream",
     "text": [
      "Fitting 5 folds for each of 10 candidates, totalling 50 fits\n",
      "[CV] END .....................criterion=mse, n_estimators=50; total time=   0.0s\n",
      "[CV] END .....................criterion=mse, n_estimators=50; total time=   0.0s\n"
     ]
    },
    {
     "name": "stderr",
     "output_type": "stream",
     "text": [
      "D:\\Anaconda\\lib\\site-packages\\sklearn\\ensemble\\_forest.py:396: FutureWarning: Criterion 'mse' was deprecated in v1.0 and will be removed in version 1.2. Use `criterion='squared_error'` which is equivalent.\n",
      "  warn(\n",
      "D:\\Anaconda\\lib\\site-packages\\sklearn\\ensemble\\_forest.py:396: FutureWarning: Criterion 'mse' was deprecated in v1.0 and will be removed in version 1.2. Use `criterion='squared_error'` which is equivalent.\n",
      "  warn(\n",
      "D:\\Anaconda\\lib\\site-packages\\sklearn\\ensemble\\_forest.py:396: FutureWarning: Criterion 'mse' was deprecated in v1.0 and will be removed in version 1.2. Use `criterion='squared_error'` which is equivalent.\n",
      "  warn(\n"
     ]
    },
    {
     "name": "stdout",
     "output_type": "stream",
     "text": [
      "[CV] END .....................criterion=mse, n_estimators=50; total time=   0.0s\n",
      "[CV] END .....................criterion=mse, n_estimators=50; total time=   0.0s\n",
      "[CV] END .....................criterion=mse, n_estimators=50; total time=   0.0s\n"
     ]
    },
    {
     "name": "stderr",
     "output_type": "stream",
     "text": [
      "D:\\Anaconda\\lib\\site-packages\\sklearn\\ensemble\\_forest.py:396: FutureWarning: Criterion 'mse' was deprecated in v1.0 and will be removed in version 1.2. Use `criterion='squared_error'` which is equivalent.\n",
      "  warn(\n",
      "D:\\Anaconda\\lib\\site-packages\\sklearn\\ensemble\\_forest.py:396: FutureWarning: Criterion 'mse' was deprecated in v1.0 and will be removed in version 1.2. Use `criterion='squared_error'` which is equivalent.\n",
      "  warn(\n",
      "D:\\Anaconda\\lib\\site-packages\\sklearn\\ensemble\\_forest.py:396: FutureWarning: Criterion 'mse' was deprecated in v1.0 and will be removed in version 1.2. Use `criterion='squared_error'` which is equivalent.\n",
      "  warn(\n"
     ]
    },
    {
     "name": "stdout",
     "output_type": "stream",
     "text": [
      "[CV] END .....................criterion=mse, n_estimators=60; total time=   0.0s\n",
      "[CV] END .....................criterion=mse, n_estimators=60; total time=   0.0s\n",
      "[CV] END .....................criterion=mse, n_estimators=60; total time=   0.0s\n"
     ]
    },
    {
     "name": "stderr",
     "output_type": "stream",
     "text": [
      "D:\\Anaconda\\lib\\site-packages\\sklearn\\ensemble\\_forest.py:396: FutureWarning: Criterion 'mse' was deprecated in v1.0 and will be removed in version 1.2. Use `criterion='squared_error'` which is equivalent.\n",
      "  warn(\n",
      "D:\\Anaconda\\lib\\site-packages\\sklearn\\ensemble\\_forest.py:396: FutureWarning: Criterion 'mse' was deprecated in v1.0 and will be removed in version 1.2. Use `criterion='squared_error'` which is equivalent.\n",
      "  warn(\n",
      "D:\\Anaconda\\lib\\site-packages\\sklearn\\ensemble\\_forest.py:396: FutureWarning: Criterion 'mse' was deprecated in v1.0 and will be removed in version 1.2. Use `criterion='squared_error'` which is equivalent.\n",
      "  warn(\n"
     ]
    },
    {
     "name": "stdout",
     "output_type": "stream",
     "text": [
      "[CV] END .....................criterion=mse, n_estimators=60; total time=   0.0s\n",
      "[CV] END .....................criterion=mse, n_estimators=60; total time=   0.0s\n"
     ]
    },
    {
     "name": "stderr",
     "output_type": "stream",
     "text": [
      "D:\\Anaconda\\lib\\site-packages\\sklearn\\ensemble\\_forest.py:396: FutureWarning: Criterion 'mse' was deprecated in v1.0 and will be removed in version 1.2. Use `criterion='squared_error'` which is equivalent.\n",
      "  warn(\n",
      "D:\\Anaconda\\lib\\site-packages\\sklearn\\ensemble\\_forest.py:396: FutureWarning: Criterion 'mse' was deprecated in v1.0 and will be removed in version 1.2. Use `criterion='squared_error'` which is equivalent.\n",
      "  warn(\n"
     ]
    },
    {
     "name": "stdout",
     "output_type": "stream",
     "text": [
      "[CV] END .....................criterion=mse, n_estimators=70; total time=   0.0s\n",
      "[CV] END .....................criterion=mse, n_estimators=70; total time=   0.0s\n"
     ]
    },
    {
     "name": "stderr",
     "output_type": "stream",
     "text": [
      "D:\\Anaconda\\lib\\site-packages\\sklearn\\ensemble\\_forest.py:396: FutureWarning: Criterion 'mse' was deprecated in v1.0 and will be removed in version 1.2. Use `criterion='squared_error'` which is equivalent.\n",
      "  warn(\n",
      "D:\\Anaconda\\lib\\site-packages\\sklearn\\ensemble\\_forest.py:396: FutureWarning: Criterion 'mse' was deprecated in v1.0 and will be removed in version 1.2. Use `criterion='squared_error'` which is equivalent.\n",
      "  warn(\n"
     ]
    },
    {
     "name": "stdout",
     "output_type": "stream",
     "text": [
      "[CV] END .....................criterion=mse, n_estimators=70; total time=   0.0s\n",
      "[CV] END .....................criterion=mse, n_estimators=70; total time=   0.0s\n"
     ]
    },
    {
     "name": "stderr",
     "output_type": "stream",
     "text": [
      "D:\\Anaconda\\lib\\site-packages\\sklearn\\ensemble\\_forest.py:396: FutureWarning: Criterion 'mse' was deprecated in v1.0 and will be removed in version 1.2. Use `criterion='squared_error'` which is equivalent.\n",
      "  warn(\n",
      "D:\\Anaconda\\lib\\site-packages\\sklearn\\ensemble\\_forest.py:396: FutureWarning: Criterion 'mse' was deprecated in v1.0 and will be removed in version 1.2. Use `criterion='squared_error'` which is equivalent.\n",
      "  warn(\n"
     ]
    },
    {
     "name": "stdout",
     "output_type": "stream",
     "text": [
      "[CV] END .....................criterion=mse, n_estimators=70; total time=   0.0s\n",
      "[CV] END .....................criterion=mse, n_estimators=80; total time=   0.0s\n"
     ]
    },
    {
     "name": "stderr",
     "output_type": "stream",
     "text": [
      "D:\\Anaconda\\lib\\site-packages\\sklearn\\ensemble\\_forest.py:396: FutureWarning: Criterion 'mse' was deprecated in v1.0 and will be removed in version 1.2. Use `criterion='squared_error'` which is equivalent.\n",
      "  warn(\n",
      "D:\\Anaconda\\lib\\site-packages\\sklearn\\ensemble\\_forest.py:396: FutureWarning: Criterion 'mse' was deprecated in v1.0 and will be removed in version 1.2. Use `criterion='squared_error'` which is equivalent.\n",
      "  warn(\n"
     ]
    },
    {
     "name": "stdout",
     "output_type": "stream",
     "text": [
      "[CV] END .....................criterion=mse, n_estimators=80; total time=   0.0s\n",
      "[CV] END .....................criterion=mse, n_estimators=80; total time=   0.0s\n"
     ]
    },
    {
     "name": "stderr",
     "output_type": "stream",
     "text": [
      "D:\\Anaconda\\lib\\site-packages\\sklearn\\ensemble\\_forest.py:396: FutureWarning: Criterion 'mse' was deprecated in v1.0 and will be removed in version 1.2. Use `criterion='squared_error'` which is equivalent.\n",
      "  warn(\n",
      "D:\\Anaconda\\lib\\site-packages\\sklearn\\ensemble\\_forest.py:396: FutureWarning: Criterion 'mse' was deprecated in v1.0 and will be removed in version 1.2. Use `criterion='squared_error'` which is equivalent.\n",
      "  warn(\n"
     ]
    },
    {
     "name": "stdout",
     "output_type": "stream",
     "text": [
      "[CV] END .....................criterion=mse, n_estimators=80; total time=   0.0s\n",
      "[CV] END .....................criterion=mse, n_estimators=80; total time=   0.0s\n"
     ]
    },
    {
     "name": "stderr",
     "output_type": "stream",
     "text": [
      "D:\\Anaconda\\lib\\site-packages\\sklearn\\ensemble\\_forest.py:396: FutureWarning: Criterion 'mse' was deprecated in v1.0 and will be removed in version 1.2. Use `criterion='squared_error'` which is equivalent.\n",
      "  warn(\n",
      "D:\\Anaconda\\lib\\site-packages\\sklearn\\ensemble\\_forest.py:396: FutureWarning: Criterion 'mse' was deprecated in v1.0 and will be removed in version 1.2. Use `criterion='squared_error'` which is equivalent.\n",
      "  warn(\n"
     ]
    },
    {
     "name": "stdout",
     "output_type": "stream",
     "text": [
      "[CV] END .....................criterion=mse, n_estimators=90; total time=   0.0s\n",
      "[CV] END .....................criterion=mse, n_estimators=90; total time=   0.0s\n"
     ]
    },
    {
     "name": "stderr",
     "output_type": "stream",
     "text": [
      "D:\\Anaconda\\lib\\site-packages\\sklearn\\ensemble\\_forest.py:396: FutureWarning: Criterion 'mse' was deprecated in v1.0 and will be removed in version 1.2. Use `criterion='squared_error'` which is equivalent.\n",
      "  warn(\n",
      "D:\\Anaconda\\lib\\site-packages\\sklearn\\ensemble\\_forest.py:396: FutureWarning: Criterion 'mse' was deprecated in v1.0 and will be removed in version 1.2. Use `criterion='squared_error'` which is equivalent.\n",
      "  warn(\n"
     ]
    },
    {
     "name": "stdout",
     "output_type": "stream",
     "text": [
      "[CV] END .....................criterion=mse, n_estimators=90; total time=   0.0s\n",
      "[CV] END .....................criterion=mse, n_estimators=90; total time=   0.0s\n"
     ]
    },
    {
     "name": "stderr",
     "output_type": "stream",
     "text": [
      "D:\\Anaconda\\lib\\site-packages\\sklearn\\ensemble\\_forest.py:396: FutureWarning: Criterion 'mse' was deprecated in v1.0 and will be removed in version 1.2. Use `criterion='squared_error'` which is equivalent.\n",
      "  warn(\n",
      "D:\\Anaconda\\lib\\site-packages\\sklearn\\ensemble\\_forest.py:396: FutureWarning: Criterion 'mse' was deprecated in v1.0 and will be removed in version 1.2. Use `criterion='squared_error'` which is equivalent.\n",
      "  warn(\n"
     ]
    },
    {
     "name": "stdout",
     "output_type": "stream",
     "text": [
      "[CV] END .....................criterion=mse, n_estimators=90; total time=   0.0s\n"
     ]
    },
    {
     "name": "stderr",
     "output_type": "stream",
     "text": [
      "D:\\Anaconda\\lib\\site-packages\\sklearn\\ensemble\\_forest.py:403: FutureWarning: Criterion 'mae' was deprecated in v1.0 and will be removed in version 1.2. Use `criterion='absolute_error'` which is equivalent.\n",
      "  warn(\n"
     ]
    },
    {
     "name": "stdout",
     "output_type": "stream",
     "text": [
      "[CV] END .....................criterion=mae, n_estimators=50; total time=   0.3s\n"
     ]
    },
    {
     "name": "stderr",
     "output_type": "stream",
     "text": [
      "D:\\Anaconda\\lib\\site-packages\\sklearn\\ensemble\\_forest.py:403: FutureWarning: Criterion 'mae' was deprecated in v1.0 and will be removed in version 1.2. Use `criterion='absolute_error'` which is equivalent.\n",
      "  warn(\n"
     ]
    },
    {
     "name": "stdout",
     "output_type": "stream",
     "text": [
      "[CV] END .....................criterion=mae, n_estimators=50; total time=   0.3s\n"
     ]
    },
    {
     "name": "stderr",
     "output_type": "stream",
     "text": [
      "D:\\Anaconda\\lib\\site-packages\\sklearn\\ensemble\\_forest.py:403: FutureWarning: Criterion 'mae' was deprecated in v1.0 and will be removed in version 1.2. Use `criterion='absolute_error'` which is equivalent.\n",
      "  warn(\n"
     ]
    },
    {
     "name": "stdout",
     "output_type": "stream",
     "text": [
      "[CV] END .....................criterion=mae, n_estimators=50; total time=   0.3s\n"
     ]
    },
    {
     "name": "stderr",
     "output_type": "stream",
     "text": [
      "D:\\Anaconda\\lib\\site-packages\\sklearn\\ensemble\\_forest.py:403: FutureWarning: Criterion 'mae' was deprecated in v1.0 and will be removed in version 1.2. Use `criterion='absolute_error'` which is equivalent.\n",
      "  warn(\n"
     ]
    },
    {
     "name": "stdout",
     "output_type": "stream",
     "text": [
      "[CV] END .....................criterion=mae, n_estimators=50; total time=   0.3s\n"
     ]
    },
    {
     "name": "stderr",
     "output_type": "stream",
     "text": [
      "D:\\Anaconda\\lib\\site-packages\\sklearn\\ensemble\\_forest.py:403: FutureWarning: Criterion 'mae' was deprecated in v1.0 and will be removed in version 1.2. Use `criterion='absolute_error'` which is equivalent.\n",
      "  warn(\n"
     ]
    },
    {
     "name": "stdout",
     "output_type": "stream",
     "text": [
      "[CV] END .....................criterion=mae, n_estimators=50; total time=   0.3s\n"
     ]
    },
    {
     "name": "stderr",
     "output_type": "stream",
     "text": [
      "D:\\Anaconda\\lib\\site-packages\\sklearn\\ensemble\\_forest.py:403: FutureWarning: Criterion 'mae' was deprecated in v1.0 and will be removed in version 1.2. Use `criterion='absolute_error'` which is equivalent.\n",
      "  warn(\n"
     ]
    },
    {
     "name": "stdout",
     "output_type": "stream",
     "text": [
      "[CV] END .....................criterion=mae, n_estimators=60; total time=   0.4s\n"
     ]
    },
    {
     "name": "stderr",
     "output_type": "stream",
     "text": [
      "D:\\Anaconda\\lib\\site-packages\\sklearn\\ensemble\\_forest.py:403: FutureWarning: Criterion 'mae' was deprecated in v1.0 and will be removed in version 1.2. Use `criterion='absolute_error'` which is equivalent.\n",
      "  warn(\n"
     ]
    },
    {
     "name": "stdout",
     "output_type": "stream",
     "text": [
      "[CV] END .....................criterion=mae, n_estimators=60; total time=   0.4s\n"
     ]
    },
    {
     "name": "stderr",
     "output_type": "stream",
     "text": [
      "D:\\Anaconda\\lib\\site-packages\\sklearn\\ensemble\\_forest.py:403: FutureWarning: Criterion 'mae' was deprecated in v1.0 and will be removed in version 1.2. Use `criterion='absolute_error'` which is equivalent.\n",
      "  warn(\n"
     ]
    },
    {
     "name": "stdout",
     "output_type": "stream",
     "text": [
      "[CV] END .....................criterion=mae, n_estimators=60; total time=   0.4s\n"
     ]
    },
    {
     "name": "stderr",
     "output_type": "stream",
     "text": [
      "D:\\Anaconda\\lib\\site-packages\\sklearn\\ensemble\\_forest.py:403: FutureWarning: Criterion 'mae' was deprecated in v1.0 and will be removed in version 1.2. Use `criterion='absolute_error'` which is equivalent.\n",
      "  warn(\n"
     ]
    },
    {
     "name": "stdout",
     "output_type": "stream",
     "text": [
      "[CV] END .....................criterion=mae, n_estimators=60; total time=   0.4s\n"
     ]
    },
    {
     "name": "stderr",
     "output_type": "stream",
     "text": [
      "D:\\Anaconda\\lib\\site-packages\\sklearn\\ensemble\\_forest.py:403: FutureWarning: Criterion 'mae' was deprecated in v1.0 and will be removed in version 1.2. Use `criterion='absolute_error'` which is equivalent.\n",
      "  warn(\n"
     ]
    },
    {
     "name": "stdout",
     "output_type": "stream",
     "text": [
      "[CV] END .....................criterion=mae, n_estimators=60; total time=   0.4s\n"
     ]
    },
    {
     "name": "stderr",
     "output_type": "stream",
     "text": [
      "D:\\Anaconda\\lib\\site-packages\\sklearn\\ensemble\\_forest.py:403: FutureWarning: Criterion 'mae' was deprecated in v1.0 and will be removed in version 1.2. Use `criterion='absolute_error'` which is equivalent.\n",
      "  warn(\n"
     ]
    },
    {
     "name": "stdout",
     "output_type": "stream",
     "text": [
      "[CV] END .....................criterion=mae, n_estimators=70; total time=   0.5s\n"
     ]
    },
    {
     "name": "stderr",
     "output_type": "stream",
     "text": [
      "D:\\Anaconda\\lib\\site-packages\\sklearn\\ensemble\\_forest.py:403: FutureWarning: Criterion 'mae' was deprecated in v1.0 and will be removed in version 1.2. Use `criterion='absolute_error'` which is equivalent.\n",
      "  warn(\n"
     ]
    },
    {
     "name": "stdout",
     "output_type": "stream",
     "text": [
      "[CV] END .....................criterion=mae, n_estimators=70; total time=   0.5s\n"
     ]
    },
    {
     "name": "stderr",
     "output_type": "stream",
     "text": [
      "D:\\Anaconda\\lib\\site-packages\\sklearn\\ensemble\\_forest.py:403: FutureWarning: Criterion 'mae' was deprecated in v1.0 and will be removed in version 1.2. Use `criterion='absolute_error'` which is equivalent.\n",
      "  warn(\n"
     ]
    },
    {
     "name": "stdout",
     "output_type": "stream",
     "text": [
      "[CV] END .....................criterion=mae, n_estimators=70; total time=   0.5s\n"
     ]
    },
    {
     "name": "stderr",
     "output_type": "stream",
     "text": [
      "D:\\Anaconda\\lib\\site-packages\\sklearn\\ensemble\\_forest.py:403: FutureWarning: Criterion 'mae' was deprecated in v1.0 and will be removed in version 1.2. Use `criterion='absolute_error'` which is equivalent.\n",
      "  warn(\n"
     ]
    },
    {
     "name": "stdout",
     "output_type": "stream",
     "text": [
      "[CV] END .....................criterion=mae, n_estimators=70; total time=   0.5s\n"
     ]
    },
    {
     "name": "stderr",
     "output_type": "stream",
     "text": [
      "D:\\Anaconda\\lib\\site-packages\\sklearn\\ensemble\\_forest.py:403: FutureWarning: Criterion 'mae' was deprecated in v1.0 and will be removed in version 1.2. Use `criterion='absolute_error'` which is equivalent.\n",
      "  warn(\n"
     ]
    },
    {
     "name": "stdout",
     "output_type": "stream",
     "text": [
      "[CV] END .....................criterion=mae, n_estimators=70; total time=   0.5s\n"
     ]
    },
    {
     "name": "stderr",
     "output_type": "stream",
     "text": [
      "D:\\Anaconda\\lib\\site-packages\\sklearn\\ensemble\\_forest.py:403: FutureWarning: Criterion 'mae' was deprecated in v1.0 and will be removed in version 1.2. Use `criterion='absolute_error'` which is equivalent.\n",
      "  warn(\n"
     ]
    },
    {
     "name": "stdout",
     "output_type": "stream",
     "text": [
      "[CV] END .....................criterion=mae, n_estimators=80; total time=   0.6s\n"
     ]
    },
    {
     "name": "stderr",
     "output_type": "stream",
     "text": [
      "D:\\Anaconda\\lib\\site-packages\\sklearn\\ensemble\\_forest.py:403: FutureWarning: Criterion 'mae' was deprecated in v1.0 and will be removed in version 1.2. Use `criterion='absolute_error'` which is equivalent.\n",
      "  warn(\n"
     ]
    },
    {
     "name": "stdout",
     "output_type": "stream",
     "text": [
      "[CV] END .....................criterion=mae, n_estimators=80; total time=   0.6s\n"
     ]
    },
    {
     "name": "stderr",
     "output_type": "stream",
     "text": [
      "D:\\Anaconda\\lib\\site-packages\\sklearn\\ensemble\\_forest.py:403: FutureWarning: Criterion 'mae' was deprecated in v1.0 and will be removed in version 1.2. Use `criterion='absolute_error'` which is equivalent.\n",
      "  warn(\n"
     ]
    },
    {
     "name": "stdout",
     "output_type": "stream",
     "text": [
      "[CV] END .....................criterion=mae, n_estimators=80; total time=   0.6s\n"
     ]
    },
    {
     "name": "stderr",
     "output_type": "stream",
     "text": [
      "D:\\Anaconda\\lib\\site-packages\\sklearn\\ensemble\\_forest.py:403: FutureWarning: Criterion 'mae' was deprecated in v1.0 and will be removed in version 1.2. Use `criterion='absolute_error'` which is equivalent.\n",
      "  warn(\n"
     ]
    },
    {
     "name": "stdout",
     "output_type": "stream",
     "text": [
      "[CV] END .....................criterion=mae, n_estimators=80; total time=   0.6s\n"
     ]
    },
    {
     "name": "stderr",
     "output_type": "stream",
     "text": [
      "D:\\Anaconda\\lib\\site-packages\\sklearn\\ensemble\\_forest.py:403: FutureWarning: Criterion 'mae' was deprecated in v1.0 and will be removed in version 1.2. Use `criterion='absolute_error'` which is equivalent.\n",
      "  warn(\n"
     ]
    },
    {
     "name": "stdout",
     "output_type": "stream",
     "text": [
      "[CV] END .....................criterion=mae, n_estimators=80; total time=   0.6s\n"
     ]
    },
    {
     "name": "stderr",
     "output_type": "stream",
     "text": [
      "D:\\Anaconda\\lib\\site-packages\\sklearn\\ensemble\\_forest.py:403: FutureWarning: Criterion 'mae' was deprecated in v1.0 and will be removed in version 1.2. Use `criterion='absolute_error'` which is equivalent.\n",
      "  warn(\n"
     ]
    },
    {
     "name": "stdout",
     "output_type": "stream",
     "text": [
      "[CV] END .....................criterion=mae, n_estimators=90; total time=   0.7s\n"
     ]
    },
    {
     "name": "stderr",
     "output_type": "stream",
     "text": [
      "D:\\Anaconda\\lib\\site-packages\\sklearn\\ensemble\\_forest.py:403: FutureWarning: Criterion 'mae' was deprecated in v1.0 and will be removed in version 1.2. Use `criterion='absolute_error'` which is equivalent.\n",
      "  warn(\n"
     ]
    },
    {
     "name": "stdout",
     "output_type": "stream",
     "text": [
      "[CV] END .....................criterion=mae, n_estimators=90; total time=   0.7s\n"
     ]
    },
    {
     "name": "stderr",
     "output_type": "stream",
     "text": [
      "D:\\Anaconda\\lib\\site-packages\\sklearn\\ensemble\\_forest.py:403: FutureWarning: Criterion 'mae' was deprecated in v1.0 and will be removed in version 1.2. Use `criterion='absolute_error'` which is equivalent.\n",
      "  warn(\n"
     ]
    },
    {
     "name": "stdout",
     "output_type": "stream",
     "text": [
      "[CV] END .....................criterion=mae, n_estimators=90; total time=   0.7s\n"
     ]
    },
    {
     "name": "stderr",
     "output_type": "stream",
     "text": [
      "D:\\Anaconda\\lib\\site-packages\\sklearn\\ensemble\\_forest.py:403: FutureWarning: Criterion 'mae' was deprecated in v1.0 and will be removed in version 1.2. Use `criterion='absolute_error'` which is equivalent.\n",
      "  warn(\n"
     ]
    },
    {
     "name": "stdout",
     "output_type": "stream",
     "text": [
      "[CV] END .....................criterion=mae, n_estimators=90; total time=   0.7s\n"
     ]
    },
    {
     "name": "stderr",
     "output_type": "stream",
     "text": [
      "D:\\Anaconda\\lib\\site-packages\\sklearn\\ensemble\\_forest.py:403: FutureWarning: Criterion 'mae' was deprecated in v1.0 and will be removed in version 1.2. Use `criterion='absolute_error'` which is equivalent.\n",
      "  warn(\n"
     ]
    },
    {
     "name": "stdout",
     "output_type": "stream",
     "text": [
      "[CV] END .....................criterion=mae, n_estimators=90; total time=   0.7s\n"
     ]
    },
    {
     "name": "stderr",
     "output_type": "stream",
     "text": [
      "D:\\Anaconda\\lib\\site-packages\\sklearn\\ensemble\\_forest.py:403: FutureWarning: Criterion 'mae' was deprecated in v1.0 and will be removed in version 1.2. Use `criterion='absolute_error'` which is equivalent.\n",
      "  warn(\n"
     ]
    },
    {
     "data": {
      "text/plain": [
       "GridSearchCV(estimator=RandomForestRegressor(),\n",
       "             param_grid={'criterion': ['mse', 'mae'],\n",
       "                         'n_estimators': range(50, 100, 10)},\n",
       "             verbose=2)"
      ]
     },
     "execution_count": 72,
     "metadata": {},
     "output_type": "execute_result"
    }
   ],
   "source": [
    "RFgrid.fit(x_train,y_train)"
   ]
  },
  {
   "cell_type": "code",
   "execution_count": 74,
   "id": "04708c19",
   "metadata": {},
   "outputs": [
    {
     "name": "stdout",
     "output_type": "stream",
     "text": [
      "The best parameters are {'criterion': 'mae', 'n_estimators': 70} with a score of 0.81\n"
     ]
    }
   ],
   "source": [
    "print('The best parameters are %s with a score of %0.2f' \n",
    "      % (RFgrid.best_params_, RFgrid.best_score_))"
   ]
  },
  {
   "cell_type": "code",
   "execution_count": 99,
   "id": "3cb86ac2",
   "metadata": {},
   "outputs": [
    {
     "name": "stderr",
     "output_type": "stream",
     "text": [
      "D:\\Anaconda\\lib\\site-packages\\sklearn\\ensemble\\_forest.py:403: FutureWarning: Criterion 'mae' was deprecated in v1.0 and will be removed in version 1.2. Use `criterion='absolute_error'` which is equivalent.\n",
      "  warn(\n"
     ]
    }
   ],
   "source": [
    "RFmodel = RandomForestRegressor(n_estimators=70,criterion='mae',random_state=0)\n",
    "RFmodel.fit(x_train, y_train)\n",
    "RF_pred = RFmodel.predict(x_test)\n",
    "RFscore = RFmodel.score(x_val,y_val)"
   ]
  },
  {
   "cell_type": "code",
   "execution_count": 100,
   "id": "e58ad024",
   "metadata": {},
   "outputs": [
    {
     "name": "stdout",
     "output_type": "stream",
     "text": [
      "0.8305752967988863\n"
     ]
    }
   ],
   "source": [
    "print(RFscore)"
   ]
  },
  {
   "cell_type": "code",
   "execution_count": 101,
   "id": "ce439b63",
   "metadata": {},
   "outputs": [
    {
     "data": {
      "text/plain": [
       "0.9354004707848765"
      ]
     },
     "execution_count": 101,
     "metadata": {},
     "output_type": "execute_result"
    }
   ],
   "source": [
    "RFR2= r2_score(y_test,RF_pred)\n",
    "RFR2"
   ]
  },
  {
   "cell_type": "code",
   "execution_count": 78,
   "id": "7fa30526",
   "metadata": {},
   "outputs": [
    {
     "name": "stdout",
     "output_type": "stream",
     "text": [
      "MAE: 0.15231263086922733\n"
     ]
    }
   ],
   "source": [
    "print('MAE: ' + str(mean_absolute_error(y_test,RF_pred)))"
   ]
  },
  {
   "cell_type": "code",
   "execution_count": 79,
   "id": "26d5ed71",
   "metadata": {},
   "outputs": [
    {
     "name": "stdout",
     "output_type": "stream",
     "text": [
      "MSE: 0.07290175293185798\n"
     ]
    }
   ],
   "source": [
    "print('MSE: ' + str(mean_squared_error(y_test,RF_pred)))"
   ]
  },
  {
   "cell_type": "code",
   "execution_count": 80,
   "id": "958c05be",
   "metadata": {},
   "outputs": [],
   "source": [
    "SVRparam_grid = {'C': [0.1,1, 10, 100, 1000],\n",
    "              'gamma': [1,0.1,0.01,0.001,0.0001],\n",
    "              'kernel': ['rbf','linear']}\n",
    "\n",
    "\n",
    "SVRgrid = GridSearchCV(SVR(), SVRparam_grid, verbose=2, refit = True)\n",
    "\n"
   ]
  },
  {
   "cell_type": "code",
   "execution_count": 81,
   "id": "2adb5934",
   "metadata": {
    "scrolled": true
   },
   "outputs": [
    {
     "name": "stdout",
     "output_type": "stream",
     "text": [
      "Fitting 5 folds for each of 50 candidates, totalling 250 fits\n",
      "[CV] END .........................C=0.1, gamma=1, kernel=rbf; total time=   0.0s\n",
      "[CV] END .........................C=0.1, gamma=1, kernel=rbf; total time=   0.0s\n",
      "[CV] END .........................C=0.1, gamma=1, kernel=rbf; total time=   0.0s\n",
      "[CV] END .........................C=0.1, gamma=1, kernel=rbf; total time=   0.0s\n",
      "[CV] END .........................C=0.1, gamma=1, kernel=rbf; total time=   0.0s\n",
      "[CV] END ......................C=0.1, gamma=1, kernel=linear; total time=   0.0s\n",
      "[CV] END ......................C=0.1, gamma=1, kernel=linear; total time=   0.0s\n",
      "[CV] END ......................C=0.1, gamma=1, kernel=linear; total time=   0.0s\n",
      "[CV] END ......................C=0.1, gamma=1, kernel=linear; total time=   0.0s\n",
      "[CV] END ......................C=0.1, gamma=1, kernel=linear; total time=   0.0s\n",
      "[CV] END .......................C=0.1, gamma=0.1, kernel=rbf; total time=   0.0s\n",
      "[CV] END .......................C=0.1, gamma=0.1, kernel=rbf; total time=   0.0s\n",
      "[CV] END .......................C=0.1, gamma=0.1, kernel=rbf; total time=   0.0s\n",
      "[CV] END .......................C=0.1, gamma=0.1, kernel=rbf; total time=   0.0s\n",
      "[CV] END .......................C=0.1, gamma=0.1, kernel=rbf; total time=   0.0s\n",
      "[CV] END ....................C=0.1, gamma=0.1, kernel=linear; total time=   0.0s\n",
      "[CV] END ....................C=0.1, gamma=0.1, kernel=linear; total time=   0.0s\n",
      "[CV] END ....................C=0.1, gamma=0.1, kernel=linear; total time=   0.0s\n",
      "[CV] END ....................C=0.1, gamma=0.1, kernel=linear; total time=   0.0s\n",
      "[CV] END ....................C=0.1, gamma=0.1, kernel=linear; total time=   0.0s\n",
      "[CV] END ......................C=0.1, gamma=0.01, kernel=rbf; total time=   0.0s\n",
      "[CV] END ......................C=0.1, gamma=0.01, kernel=rbf; total time=   0.0s\n",
      "[CV] END ......................C=0.1, gamma=0.01, kernel=rbf; total time=   0.0s\n",
      "[CV] END ......................C=0.1, gamma=0.01, kernel=rbf; total time=   0.0s\n",
      "[CV] END ......................C=0.1, gamma=0.01, kernel=rbf; total time=   0.0s\n",
      "[CV] END ...................C=0.1, gamma=0.01, kernel=linear; total time=   0.0s\n",
      "[CV] END ...................C=0.1, gamma=0.01, kernel=linear; total time=   0.0s\n",
      "[CV] END ...................C=0.1, gamma=0.01, kernel=linear; total time=   0.0s\n",
      "[CV] END ...................C=0.1, gamma=0.01, kernel=linear; total time=   0.0s\n",
      "[CV] END ...................C=0.1, gamma=0.01, kernel=linear; total time=   0.0s\n",
      "[CV] END .....................C=0.1, gamma=0.001, kernel=rbf; total time=   0.0s\n",
      "[CV] END .....................C=0.1, gamma=0.001, kernel=rbf; total time=   0.0s\n",
      "[CV] END .....................C=0.1, gamma=0.001, kernel=rbf; total time=   0.0s\n",
      "[CV] END .....................C=0.1, gamma=0.001, kernel=rbf; total time=   0.0s\n",
      "[CV] END .....................C=0.1, gamma=0.001, kernel=rbf; total time=   0.0s\n",
      "[CV] END ..................C=0.1, gamma=0.001, kernel=linear; total time=   0.0s\n",
      "[CV] END ..................C=0.1, gamma=0.001, kernel=linear; total time=   0.0s\n",
      "[CV] END ..................C=0.1, gamma=0.001, kernel=linear; total time=   0.0s\n",
      "[CV] END ..................C=0.1, gamma=0.001, kernel=linear; total time=   0.0s\n",
      "[CV] END ..................C=0.1, gamma=0.001, kernel=linear; total time=   0.0s\n",
      "[CV] END ....................C=0.1, gamma=0.0001, kernel=rbf; total time=   0.0s\n",
      "[CV] END ....................C=0.1, gamma=0.0001, kernel=rbf; total time=   0.0s\n",
      "[CV] END ....................C=0.1, gamma=0.0001, kernel=rbf; total time=   0.0s\n",
      "[CV] END ....................C=0.1, gamma=0.0001, kernel=rbf; total time=   0.0s\n",
      "[CV] END ....................C=0.1, gamma=0.0001, kernel=rbf; total time=   0.0s\n",
      "[CV] END .................C=0.1, gamma=0.0001, kernel=linear; total time=   0.0s\n",
      "[CV] END .................C=0.1, gamma=0.0001, kernel=linear; total time=   0.0s\n",
      "[CV] END .................C=0.1, gamma=0.0001, kernel=linear; total time=   0.0s\n",
      "[CV] END .................C=0.1, gamma=0.0001, kernel=linear; total time=   0.0s\n",
      "[CV] END .................C=0.1, gamma=0.0001, kernel=linear; total time=   0.0s\n",
      "[CV] END ...........................C=1, gamma=1, kernel=rbf; total time=   0.0s\n",
      "[CV] END ...........................C=1, gamma=1, kernel=rbf; total time=   0.0s\n",
      "[CV] END ...........................C=1, gamma=1, kernel=rbf; total time=   0.0s\n",
      "[CV] END ...........................C=1, gamma=1, kernel=rbf; total time=   0.0s\n",
      "[CV] END ...........................C=1, gamma=1, kernel=rbf; total time=   0.0s\n",
      "[CV] END ........................C=1, gamma=1, kernel=linear; total time=   0.0s\n",
      "[CV] END ........................C=1, gamma=1, kernel=linear; total time=   0.0s\n",
      "[CV] END ........................C=1, gamma=1, kernel=linear; total time=   0.0s\n",
      "[CV] END ........................C=1, gamma=1, kernel=linear; total time=   0.0s\n",
      "[CV] END ........................C=1, gamma=1, kernel=linear; total time=   0.0s\n",
      "[CV] END .........................C=1, gamma=0.1, kernel=rbf; total time=   0.0s\n",
      "[CV] END .........................C=1, gamma=0.1, kernel=rbf; total time=   0.0s\n",
      "[CV] END .........................C=1, gamma=0.1, kernel=rbf; total time=   0.0s\n",
      "[CV] END .........................C=1, gamma=0.1, kernel=rbf; total time=   0.0s\n",
      "[CV] END .........................C=1, gamma=0.1, kernel=rbf; total time=   0.0s\n",
      "[CV] END ......................C=1, gamma=0.1, kernel=linear; total time=   0.0s\n",
      "[CV] END ......................C=1, gamma=0.1, kernel=linear; total time=   0.0s\n",
      "[CV] END ......................C=1, gamma=0.1, kernel=linear; total time=   0.0s\n",
      "[CV] END ......................C=1, gamma=0.1, kernel=linear; total time=   0.0s\n",
      "[CV] END ......................C=1, gamma=0.1, kernel=linear; total time=   0.0s\n",
      "[CV] END ........................C=1, gamma=0.01, kernel=rbf; total time=   0.0s\n",
      "[CV] END ........................C=1, gamma=0.01, kernel=rbf; total time=   0.0s\n",
      "[CV] END ........................C=1, gamma=0.01, kernel=rbf; total time=   0.0s\n",
      "[CV] END ........................C=1, gamma=0.01, kernel=rbf; total time=   0.0s\n",
      "[CV] END ........................C=1, gamma=0.01, kernel=rbf; total time=   0.0s\n",
      "[CV] END .....................C=1, gamma=0.01, kernel=linear; total time=   0.0s\n",
      "[CV] END .....................C=1, gamma=0.01, kernel=linear; total time=   0.0s\n",
      "[CV] END .....................C=1, gamma=0.01, kernel=linear; total time=   0.0s\n",
      "[CV] END .....................C=1, gamma=0.01, kernel=linear; total time=   0.0s\n",
      "[CV] END .....................C=1, gamma=0.01, kernel=linear; total time=   0.0s\n",
      "[CV] END .......................C=1, gamma=0.001, kernel=rbf; total time=   0.0s\n",
      "[CV] END .......................C=1, gamma=0.001, kernel=rbf; total time=   0.0s\n",
      "[CV] END .......................C=1, gamma=0.001, kernel=rbf; total time=   0.0s\n",
      "[CV] END .......................C=1, gamma=0.001, kernel=rbf; total time=   0.0s\n",
      "[CV] END .......................C=1, gamma=0.001, kernel=rbf; total time=   0.0s\n",
      "[CV] END ....................C=1, gamma=0.001, kernel=linear; total time=   0.0s\n",
      "[CV] END ....................C=1, gamma=0.001, kernel=linear; total time=   0.0s\n",
      "[CV] END ....................C=1, gamma=0.001, kernel=linear; total time=   0.0s\n",
      "[CV] END ....................C=1, gamma=0.001, kernel=linear; total time=   0.0s\n",
      "[CV] END ....................C=1, gamma=0.001, kernel=linear; total time=   0.0s\n",
      "[CV] END ......................C=1, gamma=0.0001, kernel=rbf; total time=   0.0s\n",
      "[CV] END ......................C=1, gamma=0.0001, kernel=rbf; total time=   0.0s\n",
      "[CV] END ......................C=1, gamma=0.0001, kernel=rbf; total time=   0.0s\n",
      "[CV] END ......................C=1, gamma=0.0001, kernel=rbf; total time=   0.0s\n",
      "[CV] END ......................C=1, gamma=0.0001, kernel=rbf; total time=   0.0s\n",
      "[CV] END ...................C=1, gamma=0.0001, kernel=linear; total time=   0.0s\n",
      "[CV] END ...................C=1, gamma=0.0001, kernel=linear; total time=   0.0s\n",
      "[CV] END ...................C=1, gamma=0.0001, kernel=linear; total time=   0.0s\n",
      "[CV] END ...................C=1, gamma=0.0001, kernel=linear; total time=   0.0s\n",
      "[CV] END ...................C=1, gamma=0.0001, kernel=linear; total time=   0.0s\n",
      "[CV] END ..........................C=10, gamma=1, kernel=rbf; total time=   0.0s\n",
      "[CV] END ..........................C=10, gamma=1, kernel=rbf; total time=   0.0s\n",
      "[CV] END ..........................C=10, gamma=1, kernel=rbf; total time=   0.0s\n",
      "[CV] END ..........................C=10, gamma=1, kernel=rbf; total time=   0.0s\n"
     ]
    },
    {
     "name": "stdout",
     "output_type": "stream",
     "text": [
      "[CV] END ..........................C=10, gamma=1, kernel=rbf; total time=   0.0s\n",
      "[CV] END .......................C=10, gamma=1, kernel=linear; total time=   0.1s\n",
      "[CV] END .......................C=10, gamma=1, kernel=linear; total time=   0.1s\n",
      "[CV] END .......................C=10, gamma=1, kernel=linear; total time=   0.0s\n",
      "[CV] END .......................C=10, gamma=1, kernel=linear; total time=   0.0s\n",
      "[CV] END .......................C=10, gamma=1, kernel=linear; total time=   0.0s\n",
      "[CV] END ........................C=10, gamma=0.1, kernel=rbf; total time=   0.0s\n",
      "[CV] END ........................C=10, gamma=0.1, kernel=rbf; total time=   0.0s\n",
      "[CV] END ........................C=10, gamma=0.1, kernel=rbf; total time=   0.0s\n",
      "[CV] END ........................C=10, gamma=0.1, kernel=rbf; total time=   0.0s\n",
      "[CV] END ........................C=10, gamma=0.1, kernel=rbf; total time=   0.0s\n",
      "[CV] END .....................C=10, gamma=0.1, kernel=linear; total time=   0.1s\n",
      "[CV] END .....................C=10, gamma=0.1, kernel=linear; total time=   0.1s\n",
      "[CV] END .....................C=10, gamma=0.1, kernel=linear; total time=   0.0s\n",
      "[CV] END .....................C=10, gamma=0.1, kernel=linear; total time=   0.0s\n",
      "[CV] END .....................C=10, gamma=0.1, kernel=linear; total time=   0.0s\n",
      "[CV] END .......................C=10, gamma=0.01, kernel=rbf; total time=   0.0s\n",
      "[CV] END .......................C=10, gamma=0.01, kernel=rbf; total time=   0.0s\n",
      "[CV] END .......................C=10, gamma=0.01, kernel=rbf; total time=   0.0s\n",
      "[CV] END .......................C=10, gamma=0.01, kernel=rbf; total time=   0.0s\n",
      "[CV] END .......................C=10, gamma=0.01, kernel=rbf; total time=   0.0s\n",
      "[CV] END ....................C=10, gamma=0.01, kernel=linear; total time=   0.1s\n",
      "[CV] END ....................C=10, gamma=0.01, kernel=linear; total time=   0.1s\n",
      "[CV] END ....................C=10, gamma=0.01, kernel=linear; total time=   0.1s\n",
      "[CV] END ....................C=10, gamma=0.01, kernel=linear; total time=   0.0s\n",
      "[CV] END ....................C=10, gamma=0.01, kernel=linear; total time=   0.1s\n",
      "[CV] END ......................C=10, gamma=0.001, kernel=rbf; total time=   0.0s\n",
      "[CV] END ......................C=10, gamma=0.001, kernel=rbf; total time=   0.0s\n",
      "[CV] END ......................C=10, gamma=0.001, kernel=rbf; total time=   0.0s\n",
      "[CV] END ......................C=10, gamma=0.001, kernel=rbf; total time=   0.0s\n",
      "[CV] END ......................C=10, gamma=0.001, kernel=rbf; total time=   0.0s\n",
      "[CV] END ...................C=10, gamma=0.001, kernel=linear; total time=   0.1s\n",
      "[CV] END ...................C=10, gamma=0.001, kernel=linear; total time=   0.1s\n",
      "[CV] END ...................C=10, gamma=0.001, kernel=linear; total time=   0.0s\n",
      "[CV] END ...................C=10, gamma=0.001, kernel=linear; total time=   0.0s\n",
      "[CV] END ...................C=10, gamma=0.001, kernel=linear; total time=   0.0s\n",
      "[CV] END .....................C=10, gamma=0.0001, kernel=rbf; total time=   0.0s\n",
      "[CV] END .....................C=10, gamma=0.0001, kernel=rbf; total time=   0.0s\n",
      "[CV] END .....................C=10, gamma=0.0001, kernel=rbf; total time=   0.0s\n",
      "[CV] END .....................C=10, gamma=0.0001, kernel=rbf; total time=   0.0s\n",
      "[CV] END .....................C=10, gamma=0.0001, kernel=rbf; total time=   0.0s\n",
      "[CV] END ..................C=10, gamma=0.0001, kernel=linear; total time=   0.1s\n",
      "[CV] END ..................C=10, gamma=0.0001, kernel=linear; total time=   0.1s\n",
      "[CV] END ..................C=10, gamma=0.0001, kernel=linear; total time=   0.0s\n",
      "[CV] END ..................C=10, gamma=0.0001, kernel=linear; total time=   0.0s\n",
      "[CV] END ..................C=10, gamma=0.0001, kernel=linear; total time=   0.0s\n",
      "[CV] END .........................C=100, gamma=1, kernel=rbf; total time=   0.0s\n",
      "[CV] END .........................C=100, gamma=1, kernel=rbf; total time=   0.0s\n",
      "[CV] END .........................C=100, gamma=1, kernel=rbf; total time=   0.0s\n",
      "[CV] END .........................C=100, gamma=1, kernel=rbf; total time=   0.0s\n",
      "[CV] END .........................C=100, gamma=1, kernel=rbf; total time=   0.0s\n",
      "[CV] END ......................C=100, gamma=1, kernel=linear; total time=   1.0s\n",
      "[CV] END ......................C=100, gamma=1, kernel=linear; total time=   1.1s\n",
      "[CV] END ......................C=100, gamma=1, kernel=linear; total time=   0.9s\n",
      "[CV] END ......................C=100, gamma=1, kernel=linear; total time=   1.1s\n",
      "[CV] END ......................C=100, gamma=1, kernel=linear; total time=   0.9s\n",
      "[CV] END .......................C=100, gamma=0.1, kernel=rbf; total time=   0.1s\n",
      "[CV] END .......................C=100, gamma=0.1, kernel=rbf; total time=   0.1s\n",
      "[CV] END .......................C=100, gamma=0.1, kernel=rbf; total time=   0.1s\n",
      "[CV] END .......................C=100, gamma=0.1, kernel=rbf; total time=   0.1s\n",
      "[CV] END .......................C=100, gamma=0.1, kernel=rbf; total time=   0.1s\n",
      "[CV] END ....................C=100, gamma=0.1, kernel=linear; total time=   1.0s\n",
      "[CV] END ....................C=100, gamma=0.1, kernel=linear; total time=   1.1s\n",
      "[CV] END ....................C=100, gamma=0.1, kernel=linear; total time=   0.9s\n",
      "[CV] END ....................C=100, gamma=0.1, kernel=linear; total time=   1.1s\n",
      "[CV] END ....................C=100, gamma=0.1, kernel=linear; total time=   0.9s\n",
      "[CV] END ......................C=100, gamma=0.01, kernel=rbf; total time=   0.0s\n",
      "[CV] END ......................C=100, gamma=0.01, kernel=rbf; total time=   0.0s\n",
      "[CV] END ......................C=100, gamma=0.01, kernel=rbf; total time=   0.0s\n",
      "[CV] END ......................C=100, gamma=0.01, kernel=rbf; total time=   0.0s\n",
      "[CV] END ......................C=100, gamma=0.01, kernel=rbf; total time=   0.0s\n",
      "[CV] END ...................C=100, gamma=0.01, kernel=linear; total time=   1.1s\n",
      "[CV] END ...................C=100, gamma=0.01, kernel=linear; total time=   1.1s\n",
      "[CV] END ...................C=100, gamma=0.01, kernel=linear; total time=   0.9s\n",
      "[CV] END ...................C=100, gamma=0.01, kernel=linear; total time=   1.1s\n",
      "[CV] END ...................C=100, gamma=0.01, kernel=linear; total time=   0.9s\n",
      "[CV] END .....................C=100, gamma=0.001, kernel=rbf; total time=   0.0s\n",
      "[CV] END .....................C=100, gamma=0.001, kernel=rbf; total time=   0.0s\n",
      "[CV] END .....................C=100, gamma=0.001, kernel=rbf; total time=   0.0s\n",
      "[CV] END .....................C=100, gamma=0.001, kernel=rbf; total time=   0.0s\n",
      "[CV] END .....................C=100, gamma=0.001, kernel=rbf; total time=   0.0s\n",
      "[CV] END ..................C=100, gamma=0.001, kernel=linear; total time=   1.1s\n",
      "[CV] END ..................C=100, gamma=0.001, kernel=linear; total time=   1.1s\n",
      "[CV] END ..................C=100, gamma=0.001, kernel=linear; total time=   0.9s\n",
      "[CV] END ..................C=100, gamma=0.001, kernel=linear; total time=   1.1s\n",
      "[CV] END ..................C=100, gamma=0.001, kernel=linear; total time=   0.9s\n",
      "[CV] END ....................C=100, gamma=0.0001, kernel=rbf; total time=   0.0s\n",
      "[CV] END ....................C=100, gamma=0.0001, kernel=rbf; total time=   0.0s\n",
      "[CV] END ....................C=100, gamma=0.0001, kernel=rbf; total time=   0.0s\n",
      "[CV] END ....................C=100, gamma=0.0001, kernel=rbf; total time=   0.0s\n",
      "[CV] END ....................C=100, gamma=0.0001, kernel=rbf; total time=   0.0s\n",
      "[CV] END .................C=100, gamma=0.0001, kernel=linear; total time=   1.0s\n",
      "[CV] END .................C=100, gamma=0.0001, kernel=linear; total time=   1.1s\n",
      "[CV] END .................C=100, gamma=0.0001, kernel=linear; total time=   0.9s\n",
      "[CV] END .................C=100, gamma=0.0001, kernel=linear; total time=   1.1s\n",
      "[CV] END .................C=100, gamma=0.0001, kernel=linear; total time=   0.9s\n",
      "[CV] END ........................C=1000, gamma=1, kernel=rbf; total time=   0.3s\n",
      "[CV] END ........................C=1000, gamma=1, kernel=rbf; total time=   0.2s\n",
      "[CV] END ........................C=1000, gamma=1, kernel=rbf; total time=   0.2s\n",
      "[CV] END ........................C=1000, gamma=1, kernel=rbf; total time=   0.1s\n",
      "[CV] END ........................C=1000, gamma=1, kernel=rbf; total time=   0.2s\n",
      "[CV] END .....................C=1000, gamma=1, kernel=linear; total time=   9.9s\n"
     ]
    },
    {
     "name": "stdout",
     "output_type": "stream",
     "text": [
      "[CV] END .....................C=1000, gamma=1, kernel=linear; total time=   9.8s\n",
      "[CV] END .....................C=1000, gamma=1, kernel=linear; total time=   9.9s\n",
      "[CV] END .....................C=1000, gamma=1, kernel=linear; total time=   9.8s\n",
      "[CV] END .....................C=1000, gamma=1, kernel=linear; total time=   8.6s\n",
      "[CV] END ......................C=1000, gamma=0.1, kernel=rbf; total time=   1.8s\n",
      "[CV] END ......................C=1000, gamma=0.1, kernel=rbf; total time=   1.9s\n",
      "[CV] END ......................C=1000, gamma=0.1, kernel=rbf; total time=   1.5s\n",
      "[CV] END ......................C=1000, gamma=0.1, kernel=rbf; total time=   1.8s\n",
      "[CV] END ......................C=1000, gamma=0.1, kernel=rbf; total time=   1.4s\n",
      "[CV] END ...................C=1000, gamma=0.1, kernel=linear; total time=   9.8s\n",
      "[CV] END ...................C=1000, gamma=0.1, kernel=linear; total time=   9.6s\n",
      "[CV] END ...................C=1000, gamma=0.1, kernel=linear; total time=   9.9s\n",
      "[CV] END ...................C=1000, gamma=0.1, kernel=linear; total time=   9.9s\n",
      "[CV] END ...................C=1000, gamma=0.1, kernel=linear; total time=   8.7s\n",
      "[CV] END .....................C=1000, gamma=0.01, kernel=rbf; total time=   0.3s\n",
      "[CV] END .....................C=1000, gamma=0.01, kernel=rbf; total time=   0.4s\n",
      "[CV] END .....................C=1000, gamma=0.01, kernel=rbf; total time=   0.3s\n",
      "[CV] END .....................C=1000, gamma=0.01, kernel=rbf; total time=   0.2s\n",
      "[CV] END .....................C=1000, gamma=0.01, kernel=rbf; total time=   0.3s\n",
      "[CV] END ..................C=1000, gamma=0.01, kernel=linear; total time=   9.9s\n",
      "[CV] END ..................C=1000, gamma=0.01, kernel=linear; total time=   9.7s\n",
      "[CV] END ..................C=1000, gamma=0.01, kernel=linear; total time=  10.1s\n",
      "[CV] END ..................C=1000, gamma=0.01, kernel=linear; total time=   9.9s\n",
      "[CV] END ..................C=1000, gamma=0.01, kernel=linear; total time=   8.5s\n",
      "[CV] END ....................C=1000, gamma=0.001, kernel=rbf; total time=   0.0s\n",
      "[CV] END ....................C=1000, gamma=0.001, kernel=rbf; total time=   0.0s\n",
      "[CV] END ....................C=1000, gamma=0.001, kernel=rbf; total time=   0.0s\n",
      "[CV] END ....................C=1000, gamma=0.001, kernel=rbf; total time=   0.0s\n",
      "[CV] END ....................C=1000, gamma=0.001, kernel=rbf; total time=   0.0s\n",
      "[CV] END .................C=1000, gamma=0.001, kernel=linear; total time=   9.9s\n",
      "[CV] END .................C=1000, gamma=0.001, kernel=linear; total time=   9.7s\n",
      "[CV] END .................C=1000, gamma=0.001, kernel=linear; total time=   9.8s\n",
      "[CV] END .................C=1000, gamma=0.001, kernel=linear; total time=   9.9s\n",
      "[CV] END .................C=1000, gamma=0.001, kernel=linear; total time=   8.5s\n",
      "[CV] END ...................C=1000, gamma=0.0001, kernel=rbf; total time=   0.0s\n",
      "[CV] END ...................C=1000, gamma=0.0001, kernel=rbf; total time=   0.0s\n",
      "[CV] END ...................C=1000, gamma=0.0001, kernel=rbf; total time=   0.0s\n",
      "[CV] END ...................C=1000, gamma=0.0001, kernel=rbf; total time=   0.0s\n",
      "[CV] END ...................C=1000, gamma=0.0001, kernel=rbf; total time=   0.0s\n",
      "[CV] END ................C=1000, gamma=0.0001, kernel=linear; total time=   9.9s\n",
      "[CV] END ................C=1000, gamma=0.0001, kernel=linear; total time=   9.7s\n",
      "[CV] END ................C=1000, gamma=0.0001, kernel=linear; total time=   9.9s\n",
      "[CV] END ................C=1000, gamma=0.0001, kernel=linear; total time=   9.9s\n",
      "[CV] END ................C=1000, gamma=0.0001, kernel=linear; total time=   8.5s\n"
     ]
    },
    {
     "data": {
      "text/plain": [
       "GridSearchCV(estimator=SVR(),\n",
       "             param_grid={'C': [0.1, 1, 10, 100, 1000],\n",
       "                         'gamma': [1, 0.1, 0.01, 0.001, 0.0001],\n",
       "                         'kernel': ['rbf', 'linear']},\n",
       "             verbose=2)"
      ]
     },
     "execution_count": 81,
     "metadata": {},
     "output_type": "execute_result"
    }
   ],
   "source": [
    "SVRgrid.fit(x_train,y_train)"
   ]
  },
  {
   "cell_type": "code",
   "execution_count": 83,
   "id": "cf822905",
   "metadata": {},
   "outputs": [
    {
     "name": "stdout",
     "output_type": "stream",
     "text": [
      "The best parameters are {'C': 1000, 'gamma': 0.01, 'kernel': 'rbf'} with a score of 0.83\n"
     ]
    }
   ],
   "source": [
    "print('The best parameters are %s with a score of %0.2f' \n",
    "      % (SVRgrid.best_params_, SVRgrid.best_score_))"
   ]
  },
  {
   "cell_type": "code",
   "execution_count": 84,
   "id": "5c49ec15",
   "metadata": {},
   "outputs": [],
   "source": [
    "reg = SVR(kernel='rbf', C = 1000, gamma = 0.01, epsilon=0.1)\n",
    "reg.fit(x_train, y_train)\n",
    "SVR_pred = reg.predict(x_test)\n",
    "SVRscore = reg.score(x_val,y_val)"
   ]
  },
  {
   "cell_type": "code",
   "execution_count": 85,
   "id": "157901dc",
   "metadata": {},
   "outputs": [
    {
     "name": "stdout",
     "output_type": "stream",
     "text": [
      "0.8559569520207952\n"
     ]
    }
   ],
   "source": [
    "print(SVRscore)"
   ]
  },
  {
   "cell_type": "code",
   "execution_count": 86,
   "id": "6165ef9f",
   "metadata": {},
   "outputs": [
    {
     "data": {
      "text/plain": [
       "0.9020633991810638"
      ]
     },
     "execution_count": 86,
     "metadata": {},
     "output_type": "execute_result"
    }
   ],
   "source": [
    "SVRR2= r2_score(y_test,SVR_pred)\n",
    "SVRR2"
   ]
  },
  {
   "cell_type": "code",
   "execution_count": 87,
   "id": "072bba97",
   "metadata": {},
   "outputs": [
    {
     "name": "stdout",
     "output_type": "stream",
     "text": [
      "MAE: 0.15231263086922733\n"
     ]
    }
   ],
   "source": [
    "print('MAE: ' + str(mean_absolute_error(y_test,RF_pred)))"
   ]
  },
  {
   "cell_type": "code",
   "execution_count": 88,
   "id": "79261685",
   "metadata": {},
   "outputs": [
    {
     "name": "stdout",
     "output_type": "stream",
     "text": [
      "MSE: 0.07290175293185798\n"
     ]
    }
   ],
   "source": [
    "print('MSE: ' + str(mean_squared_error(y_test,RF_pred)))"
   ]
  },
  {
   "cell_type": "markdown",
   "id": "e8c349f3",
   "metadata": {},
   "source": [
    "Random Forest seems to have done the best juding by the scores, however SVR also did pretty well but Decision Trees ended up lacking a bit"
   ]
  },
  {
   "cell_type": "code",
   "execution_count": null,
   "id": "4f143d57",
   "metadata": {},
   "outputs": [],
   "source": []
  },
  {
   "cell_type": "code",
   "execution_count": null,
   "id": "d78ec98c",
   "metadata": {},
   "outputs": [],
   "source": []
  }
 ],
 "metadata": {
  "kernelspec": {
   "display_name": "Python 3 (ipykernel)",
   "language": "python",
   "name": "python3"
  },
  "language_info": {
   "codemirror_mode": {
    "name": "ipython",
    "version": 3
   },
   "file_extension": ".py",
   "mimetype": "text/x-python",
   "name": "python",
   "nbconvert_exporter": "python",
   "pygments_lexer": "ipython3",
   "version": "3.9.12"
  }
 },
 "nbformat": 4,
 "nbformat_minor": 5
}
